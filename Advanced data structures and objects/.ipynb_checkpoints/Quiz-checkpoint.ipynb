{
 "cells": [
  {
   "cell_type": "markdown",
   "metadata": {},
   "source": [
    "1) Bu string içindeki harflerin frekansını (bir harfin kaç defa geçtiği) bulmaya çalışın."
   ]
  },
  {
   "cell_type": "code",
   "execution_count": 1,
   "metadata": {},
   "outputs": [],
   "source": [
    "string=\"ProgramlamaÖdeviİleriSeviyeVeriYapılarıveObjeleripynb\""
   ]
  },
  {
   "cell_type": "code",
   "execution_count": 2,
   "metadata": {},
   "outputs": [],
   "source": [
    "letters=dict()\n",
    "for i in string:\n",
    "    if(i in letters):\n",
    "        letters[i]+=1\n",
    "    else: letters[i]=1\n",
    "    "
   ]
  },
  {
   "cell_type": "code",
   "execution_count": 3,
   "metadata": {},
   "outputs": [
    {
     "name": "stdout",
     "output_type": "stream",
     "text": [
      "P harfinden 1 kez kullanılıyor.\n",
      "r harfinden 6 kez kullanılıyor.\n",
      "o harfinden 1 kez kullanılıyor.\n",
      "g harfinden 1 kez kullanılıyor.\n",
      "a harfinden 5 kez kullanılıyor.\n",
      "m harfinden 2 kez kullanılıyor.\n",
      "l harfinden 4 kez kullanılıyor.\n",
      "Ö harfinden 1 kez kullanılıyor.\n",
      "d harfinden 1 kez kullanılıyor.\n",
      "e harfinden 8 kez kullanılıyor.\n",
      "v harfinden 3 kez kullanılıyor.\n",
      "i harfinden 5 kez kullanılıyor.\n",
      "İ harfinden 1 kez kullanılıyor.\n",
      "S harfinden 1 kez kullanılıyor.\n",
      "y harfinden 2 kez kullanılıyor.\n",
      "V harfinden 1 kez kullanılıyor.\n",
      "Y harfinden 1 kez kullanılıyor.\n",
      "p harfinden 2 kez kullanılıyor.\n",
      "ı harfinden 2 kez kullanılıyor.\n",
      "O harfinden 1 kez kullanılıyor.\n",
      "b harfinden 2 kez kullanılıyor.\n",
      "j harfinden 1 kez kullanılıyor.\n",
      "n harfinden 1 kez kullanılıyor.\n"
     ]
    }
   ],
   "source": [
    "for word,count in letters.items():\n",
    "    print(\"{} harfinden {} kez kullanılıyor.\".format(word,count))"
   ]
  },
  {
   "cell_type": "markdown",
   "metadata": {},
   "source": [
    "2) Bu dosyanın herbir satırını okuyun. Satırların baş harflerini birbirine ekleyerek bir string oluşturun ve bu string'i ekrana yazdırın."
   ]
  },
  {
   "cell_type": "code",
   "execution_count": 4,
   "metadata": {},
   "outputs": [],
   "source": [
    "poem=[]\n",
    "\n",
    "with open(\"poem.txt\",\"r\",encoding=\"utf-8\") as file:\n",
    "    for i in file:\n",
    "        poem.append(i)"
   ]
  },
  {
   "cell_type": "code",
   "execution_count": 7,
   "metadata": {},
   "outputs": [],
   "source": [
    "poemLines=[]\n",
    "\n",
    "for i in poem:\n",
    "    poemLines.append(i.split(\"\\n\"))\n"
   ]
  },
  {
   "cell_type": "code",
   "execution_count": 21,
   "metadata": {},
   "outputs": [
    {
     "name": "stdout",
     "output_type": "stream",
     "text": [
      "M\n",
      "U\n",
      "S\n",
      "T\n",
      "A\n",
      "F\n",
      "A\n",
      "K\n",
      "E\n",
      "M\n",
      "A\n",
      "L\n"
     ]
    }
   ],
   "source": [
    "for i in poemLines:\n",
    "    \n",
    "    print(i[0][0])\n",
    "    "
   ]
  },
  {
   "cell_type": "markdown",
   "metadata": {},
   "source": [
    "3) Elinizde \"mailler.txt\" adında , maillerin ve bazı yazıların bulunduğu bir dosya olsun. Bu dosyanın her bir satırını okuyun ve sadece mail formatına uygun olanları ekrana yazdırın."
   ]
  },
  {
   "cell_type": "code",
   "execution_count": 23,
   "metadata": {},
   "outputs": [],
   "source": [
    "mails=[]\n",
    "with open(\"mails.txt\",\"r\",encoding=\"utf-8\") as file:\n",
    "    for i in file:\n",
    "        mails.append(i)"
   ]
  },
  {
   "cell_type": "code",
   "execution_count": 24,
   "metadata": {},
   "outputs": [
    {
     "data": {
      "text/plain": [
       "['coskun.m.murat@gmail.com\\n',\n",
       " 'example@xyz.com\\n',\n",
       " \"28 Ağustos 1955'te Beyoğluspor ile oynanan ve 3-0 kazanılan hazırlık maçında yeni takımıyla imzaladığı sözleşmenin ardından ilk maçına çıkarken, ilk golünü de bu maçta attı.\\n\",\n",
       " 'mustafa.com\\n',\n",
       " 'mustafa@gmail\\n',\n",
       " \"1962-63 sezonuna Galatasaray, hazırlık turnuvası niteliğindeki Türkiye Spor Yazarları Derneği Kupası'nı kazanarak başladı.\\n\",\n",
       " 'kerim@yahoo.com\\n',\n",
       " 'mertdiv_197@hotmail.com\\n',\n",
       " 'mertdiv.97@gmail.com\\n',\n",
       " 'Metin Oktay (2 Şubat 1936; Karşıyaka, İzmir - 13 Eylül 1991, İstanbul),Türk futbolcu ve teknik direktör.\\n',\n",
       " 'Golcülüğü ve yaşadığı gol krallıkları sayesinde \"Taçsız Kral\" lakabıyla da anılmaktadır.\\n',\n",
       " \"Futbol kariyerine 1952 yılında, İzmir'in yerel takımlarından Damlacıkspor'da başladı.\"]"
      ]
     },
     "execution_count": 24,
     "metadata": {},
     "output_type": "execute_result"
    }
   ],
   "source": [
    "mails"
   ]
  },
  {
   "cell_type": "code",
   "execution_count": 34,
   "metadata": {},
   "outputs": [],
   "source": [
    "liste=[]\n",
    "for i in mails:\n",
    "    i=i.strip()\n",
    "    liste.append(i.split(\"\\n\"))"
   ]
  },
  {
   "cell_type": "code",
   "execution_count": 35,
   "metadata": {},
   "outputs": [
    {
     "data": {
      "text/plain": [
       "[['coskun.m.murat@gmail.com'],\n",
       " ['example@xyz.com'],\n",
       " [\"28 Ağustos 1955'te Beyoğluspor ile oynanan ve 3-0 kazanılan hazırlık maçında yeni takımıyla imzaladığı sözleşmenin ardından ilk maçına çıkarken, ilk golünü de bu maçta attı.\"],\n",
       " ['mustafa.com'],\n",
       " ['mustafa@gmail'],\n",
       " [\"1962-63 sezonuna Galatasaray, hazırlık turnuvası niteliğindeki Türkiye Spor Yazarları Derneği Kupası'nı kazanarak başladı.\"],\n",
       " ['kerim@yahoo.com'],\n",
       " ['mertdiv_197@hotmail.com'],\n",
       " ['mertdiv.97@gmail.com'],\n",
       " ['Metin Oktay (2 Şubat 1936; Karşıyaka, İzmir - 13 Eylül 1991, İstanbul),Türk futbolcu ve teknik direktör.'],\n",
       " ['Golcülüğü ve yaşadığı gol krallıkları sayesinde \"Taçsız Kral\" lakabıyla da anılmaktadır.'],\n",
       " [\"Futbol kariyerine 1952 yılında, İzmir'in yerel takımlarından Damlacıkspor'da başladı.\"]]"
      ]
     },
     "execution_count": 35,
     "metadata": {},
     "output_type": "execute_result"
    }
   ],
   "source": [
    "liste"
   ]
  },
  {
   "cell_type": "code",
   "execution_count": 39,
   "metadata": {},
   "outputs": [],
   "source": [
    "onlyMails=list()\n",
    "for i in liste:\n",
    "    if(i[0].endswith(\".com\")):\n",
    "        onlyMails.append(i)\n",
    "        \n"
   ]
  },
  {
   "cell_type": "code",
   "execution_count": 44,
   "metadata": {},
   "outputs": [
    {
     "data": {
      "text/plain": [
       "6"
      ]
     },
     "execution_count": 44,
     "metadata": {},
     "output_type": "execute_result"
    }
   ],
   "source": [
    "len(onlyMails)"
   ]
  },
  {
   "cell_type": "code",
   "execution_count": 45,
   "metadata": {
    "scrolled": true
   },
   "outputs": [
    {
     "data": {
      "text/plain": [
       "[['coskun.m.murat@gmail.com'],\n",
       " ['example@xyz.com'],\n",
       " ['mustafa.com'],\n",
       " ['kerim@yahoo.com'],\n",
       " ['mertdiv_197@hotmail.com'],\n",
       " ['mertdiv.97@gmail.com']]"
      ]
     },
     "execution_count": 45,
     "metadata": {},
     "output_type": "execute_result"
    }
   ],
   "source": [
    "onlyMails"
   ]
  },
  {
   "cell_type": "markdown",
   "metadata": {},
   "source": [
    "4) Elinizde 2 tane liste bulunsun. Bu listelerden isim ve soyisimleri birleştirerek , ekrana isim ve soyisimleri isimlere göre sıralı bir şekilde yazdırmaya çalışın."
   ]
  },
  {
   "cell_type": "code",
   "execution_count": 47,
   "metadata": {},
   "outputs": [],
   "source": [
    "name=[\"Kerim\",\"Tarık\",\"Ezgi\",\"Kemal\",\"İlkay\",\"Şükran\",\"Merve\"]\n",
    "lastName=[\"Yılmaz\",\"Öztürk\",\"Dağdeviren\",\"Atatürk\",\"Dikmen\",\"Kaya\",\"Polat\"]"
   ]
  },
  {
   "cell_type": "code",
   "execution_count": 57,
   "metadata": {},
   "outputs": [
    {
     "name": "stdout",
     "output_type": "stream",
     "text": [
      "Kerim Yılmaz\n",
      "Tarık Öztürk\n",
      "Ezgi Dağdeviren\n",
      "Kemal Atatürk\n",
      "İlkay Dikmen\n",
      "Şükran Kaya\n",
      "Merve Polat\n"
     ]
    }
   ],
   "source": [
    "for i,j in zip(name,lastName):\n",
    "    print(i,j)"
   ]
  }
 ],
 "metadata": {
  "kernelspec": {
   "display_name": "Python 3",
   "language": "python",
   "name": "python3"
  },
  "language_info": {
   "codemirror_mode": {
    "name": "ipython",
    "version": 3
   },
   "file_extension": ".py",
   "mimetype": "text/x-python",
   "name": "python",
   "nbconvert_exporter": "python",
   "pygments_lexer": "ipython3",
   "version": "3.8.5"
  }
 },
 "nbformat": 4,
 "nbformat_minor": 4
}
