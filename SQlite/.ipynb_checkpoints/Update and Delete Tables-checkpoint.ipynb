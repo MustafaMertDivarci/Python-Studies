{
 "cells": [
  {
   "cell_type": "markdown",
   "metadata": {},
   "source": [
    "## Tablodaki Verileri Güncelleme ve Silme\n",
    "\n",
    "### Verileri Güncelleme\n",
    "\n",
    "* **UPDATE library SET Publisher='Everest Yayıncılık' WHERE Publisher='Doğan Kitap'**\\\n",
    "Yayınevi 'Doğan Kitap' olan kitapların Yayınevi bilgilerini 'Everest Yayıncılık' olarak günceller."
   ]
  },
  {
   "cell_type": "code",
   "execution_count": 1,
   "metadata": {},
   "outputs": [],
   "source": [
    "import sqlite3"
   ]
  },
  {
   "cell_type": "code",
   "execution_count": 2,
   "metadata": {},
   "outputs": [],
   "source": [
    "con=sqlite3.connect(\"library.db\")"
   ]
  },
  {
   "cell_type": "code",
   "execution_count": 3,
   "metadata": {},
   "outputs": [],
   "source": [
    "cursor=con.cursor()"
   ]
  },
  {
   "cell_type": "code",
   "execution_count": 21,
   "metadata": {},
   "outputs": [],
   "source": [
    "def updateData(oldPublisher,newPublisher):\n",
    "    cursor.execute(\"UPDATE library SET Publisher= ? WHERE Publisher= ?\",(newPublisher,oldPublisher))\n",
    "    con.commit()"
   ]
  },
  {
   "cell_type": "markdown",
   "metadata": {},
   "source": [
    "Verilerimi değiştirmeden önce bir kez daha tablomuza bakalım.\n"
   ]
  },
  {
   "cell_type": "code",
   "execution_count": 15,
   "metadata": {},
   "outputs": [],
   "source": [
    "def getData():\n",
    "    cursor.execute(\"SELECT*FROM library\")\n",
    "    liste=cursor.fetchall()\n",
    "    for i in liste:\n",
    "        print(i)\n"
   ]
  },
  {
   "cell_type": "code",
   "execution_count": 16,
   "metadata": {},
   "outputs": [
    {
     "name": "stdout",
     "output_type": "stream",
     "text": [
      "('Istanbul Hatırası', 'Everest Yayıncılık', 'Ahmet ümit', 565)\n",
      "('Yüzük kardeşliği', 'Metis Edebiyat', 'J.R.R Tolkien', 486)\n",
      "('Istanbul Hatırası', 'Everest Yayıncılık', 'Ahmet ümit', 565)\n",
      "('Kinyas ve Karya', 'DK', 'Hakan Günday', 561)\n",
      "('Dedektif Kurukafa', 'ARTEMİSÇOCUK', 'Derek LANDY', 714)\n",
      "(\"Notre Dame'in Kamburu\", 'İş bankası', 'Victor HUGO', 432)\n"
     ]
    }
   ],
   "source": [
    "getData()"
   ]
  },
  {
   "cell_type": "markdown",
   "metadata": {},
   "source": [
    "Ben burada notre dame kamburunun yayın evini değiştiricem"
   ]
  },
  {
   "cell_type": "code",
   "execution_count": 24,
   "metadata": {},
   "outputs": [],
   "source": [
    "updateData(\"İş bankası\",\"Alter\")"
   ]
  },
  {
   "cell_type": "code",
   "execution_count": 25,
   "metadata": {},
   "outputs": [
    {
     "name": "stdout",
     "output_type": "stream",
     "text": [
      "('Istanbul Hatırası', 'Everest Yayıncılık', 'Ahmet ümit', 565)\n",
      "('Yüzük kardeşliği', 'Metis Edebiyat', 'J.R.R Tolkien', 486)\n",
      "('Istanbul Hatırası', 'Everest Yayıncılık', 'Ahmet ümit', 565)\n",
      "('Kinyas ve Karya', 'DK', 'Hakan Günday', 561)\n",
      "('Dedektif Kurukafa', 'ARTEMİSÇOCUK', 'Derek LANDY', 714)\n",
      "(\"Notre Dame'in Kamburu\", 'Alter', 'Victor HUGO', 432)\n"
     ]
    }
   ],
   "source": [
    "getData()"
   ]
  },
  {
   "cell_type": "markdown",
   "metadata": {},
   "source": [
    "### Verileri Silme\n",
    "* **DELETE FROM library WHERE Author='Ahmet ümit'** \\\n",
    "Yazar özelliği 'Ahmet ümit' olan verileri tablodan siler."
   ]
  },
  {
   "cell_type": "code",
   "execution_count": 26,
   "metadata": {},
   "outputs": [],
   "source": [
    "def delData(author):\n",
    "    cursor.execute(\"DELETE FROM library WHERE Author=?\",(author,))\n",
    "    con.commit()"
   ]
  },
  {
   "cell_type": "code",
   "execution_count": 27,
   "metadata": {},
   "outputs": [
    {
     "name": "stdout",
     "output_type": "stream",
     "text": [
      "('Istanbul Hatırası', 'Everest Yayıncılık', 'Ahmet ümit', 565)\n",
      "('Yüzük kardeşliği', 'Metis Edebiyat', 'J.R.R Tolkien', 486)\n",
      "('Istanbul Hatırası', 'Everest Yayıncılık', 'Ahmet ümit', 565)\n",
      "('Kinyas ve Karya', 'DK', 'Hakan Günday', 561)\n",
      "('Dedektif Kurukafa', 'ARTEMİSÇOCUK', 'Derek LANDY', 714)\n",
      "(\"Notre Dame'in Kamburu\", 'Alter', 'Victor HUGO', 432)\n"
     ]
    }
   ],
   "source": [
    "getData()"
   ]
  },
  {
   "cell_type": "code",
   "execution_count": 28,
   "metadata": {},
   "outputs": [],
   "source": [
    "delData('Ahmet ümit')"
   ]
  },
  {
   "cell_type": "code",
   "execution_count": 29,
   "metadata": {},
   "outputs": [
    {
     "name": "stdout",
     "output_type": "stream",
     "text": [
      "('Yüzük kardeşliği', 'Metis Edebiyat', 'J.R.R Tolkien', 486)\n",
      "('Kinyas ve Karya', 'DK', 'Hakan Günday', 561)\n",
      "('Dedektif Kurukafa', 'ARTEMİSÇOCUK', 'Derek LANDY', 714)\n",
      "(\"Notre Dame'in Kamburu\", 'Alter', 'Victor HUGO', 432)\n"
     ]
    }
   ],
   "source": [
    "getData()"
   ]
  },
  {
   "cell_type": "code",
   "execution_count": null,
   "metadata": {},
   "outputs": [],
   "source": []
  }
 ],
 "metadata": {
  "kernelspec": {
   "display_name": "Python 3",
   "language": "python",
   "name": "python3"
  },
  "language_info": {
   "codemirror_mode": {
    "name": "ipython",
    "version": 3
   },
   "file_extension": ".py",
   "mimetype": "text/x-python",
   "name": "python",
   "nbconvert_exporter": "python",
   "pygments_lexer": "ipython3",
   "version": "3.8.5"
  }
 },
 "nbformat": 4,
 "nbformat_minor": 4
}
