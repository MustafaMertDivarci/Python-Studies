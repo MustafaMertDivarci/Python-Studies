{
 "cells": [
  {
   "cell_type": "markdown",
   "metadata": {},
   "source": [
    "### Tablodaki Verileri Çekme\n",
    "\n",
    "* **SELECT *FROM library**----------- Tablodaki bütün bilgileri almamızı sağlar.\\\n",
    "Yıldız (*) işareti buradaki bütün özellikleri almak istediğimizi belirtir.\n",
    "\n",
    "* **SELECT Name,Author FROM library**-----------Tablodaki tüm bilgileri sadece isim ve yazar özelliklerini almamızı sağlar.\\\n",
    "\n",
    "* **SELECT*FROM library where Publisher=\"Everest\"**----Sadece publisher özelliği Everest olanları alır"
   ]
  },
  {
   "cell_type": "code",
   "execution_count": 1,
   "metadata": {},
   "outputs": [],
   "source": [
    "import sqlite3"
   ]
  },
  {
   "cell_type": "code",
   "execution_count": 2,
   "metadata": {},
   "outputs": [],
   "source": [
    "con=sqlite3.connect(\"library.db\")"
   ]
  },
  {
   "cell_type": "code",
   "execution_count": 3,
   "metadata": {},
   "outputs": [],
   "source": [
    "cursor=con.cursor()"
   ]
  },
  {
   "cell_type": "code",
   "execution_count": 12,
   "metadata": {},
   "outputs": [],
   "source": [
    "def getData():\n",
    "    cursor.execute(\"SELECT*FROM library\")\n",
    "    liste=cursor.fetchall() #fetchall fonksiyonu ile verileri git al diyoruz ve listeye atıyoruz.\n",
    "    for i in liste:\n",
    "        print(i)"
   ]
  },
  {
   "cell_type": "code",
   "execution_count": 22,
   "metadata": {},
   "outputs": [
    {
     "name": "stdout",
     "output_type": "stream",
     "text": [
      "('Istanbul Hatırası', 'Everest Yayıncılık', 'Ahmet ümit', 565)\n",
      "('Yüzük kardeşliği', 'Metis Edebiyat', 'J.R.R Tolkien', 486)\n",
      "('Istanbul Hatırası', 'Everest Yayıncılık', 'Ahmet ümit', 565)\n",
      "('Kinyas ve Karya', 'DK', 'Hakan Günday', 561)\n"
     ]
    }
   ],
   "source": [
    "getData()"
   ]
  },
  {
   "cell_type": "code",
   "execution_count": 20,
   "metadata": {},
   "outputs": [],
   "source": [
    "def getData2():\n",
    "    cursor.execute(\"SELECT name,author FROM library\")\n",
    "    liste=cursor.fetchall()\n",
    "    for i in liste:\n",
    "        print(i)"
   ]
  },
  {
   "cell_type": "code",
   "execution_count": 21,
   "metadata": {},
   "outputs": [
    {
     "name": "stdout",
     "output_type": "stream",
     "text": [
      "('Istanbul Hatırası', 'Ahmet ümit')\n",
      "('Yüzük kardeşliği', 'J.R.R Tolkien')\n",
      "('Istanbul Hatırası', 'Ahmet ümit')\n",
      "('Kinyas ve Karya', 'Hakan Günday')\n"
     ]
    }
   ],
   "source": [
    "getData2()"
   ]
  },
  {
   "cell_type": "code",
   "execution_count": 25,
   "metadata": {},
   "outputs": [],
   "source": [
    "def getData3():\n",
    "    cursor.execute(\"SELECT*FROM library WHERE publisher='DK'\")\n",
    "    liste=cursor.fetchall()\n",
    "    for i in liste:\n",
    "        print(i)"
   ]
  },
  {
   "cell_type": "code",
   "execution_count": 26,
   "metadata": {},
   "outputs": [
    {
     "name": "stdout",
     "output_type": "stream",
     "text": [
      "('Kinyas ve Karya', 'DK', 'Hakan Günday', 561)\n"
     ]
    }
   ],
   "source": [
    "getData3()"
   ]
  },
  {
   "cell_type": "code",
   "execution_count": 40,
   "metadata": {},
   "outputs": [],
   "source": [
    "def getData3(Publisher):\n",
    "    cursor.execute(\"SELECT*FROM library WHERE publisher=?\",(Publisher,)) \n",
    "    # Buradaki ,(Publisher,) yapmazsak çalışmıyor\n",
    "\n",
    "    liste=cursor.fetchall()\n",
    "    for i in liste:\n",
    "        print(i)"
   ]
  },
  {
   "cell_type": "code",
   "execution_count": 41,
   "metadata": {},
   "outputs": [
    {
     "name": "stdout",
     "output_type": "stream",
     "text": [
      "('Istanbul Hatırası', 'Everest Yayıncılık', 'Ahmet ümit', 565)\n",
      "('Istanbul Hatırası', 'Everest Yayıncılık', 'Ahmet ümit', 565)\n"
     ]
    }
   ],
   "source": [
    "getData3(\"Everest Yayıncılık\")"
   ]
  }
 ],
 "metadata": {
  "kernelspec": {
   "display_name": "Python 3",
   "language": "python",
   "name": "python3"
  },
  "language_info": {
   "codemirror_mode": {
    "name": "ipython",
    "version": 3
   },
   "file_extension": ".py",
   "mimetype": "text/x-python",
   "name": "python",
   "nbconvert_exporter": "python",
   "pygments_lexer": "ipython3",
   "version": "3.8.5"
  }
 },
 "nbformat": 4,
 "nbformat_minor": 4
}
