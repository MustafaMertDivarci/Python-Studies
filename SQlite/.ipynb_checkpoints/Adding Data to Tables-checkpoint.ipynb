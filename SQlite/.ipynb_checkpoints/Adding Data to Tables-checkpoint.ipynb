{
 "cells": [
  {
   "cell_type": "code",
   "execution_count": 1,
   "metadata": {},
   "outputs": [],
   "source": [
    "import sqlite3"
   ]
  },
  {
   "cell_type": "code",
   "execution_count": 2,
   "metadata": {},
   "outputs": [],
   "source": [
    "con=sqlite3.connect(\"library.db\")"
   ]
  },
  {
   "cell_type": "code",
   "execution_count": 3,
   "metadata": {},
   "outputs": [],
   "source": [
    "cursor=con.cursor()"
   ]
  },
  {
   "cell_type": "markdown",
   "metadata": {},
   "source": [
    "cursor.execute(**INSERT INTO** Database_Adı **VALUES**(Eklemek istediğimiz veriler))"
   ]
  },
  {
   "cell_type": "code",
   "execution_count": 4,
   "metadata": {},
   "outputs": [],
   "source": [
    "def addData():\n",
    "    cursor.execute(\"INSERT INTO library VALUES('Istanbul Hatırası','Everest Yayıncılık','Ahmet ümit',565)\")\n",
    "    con.commit() # Veri tabanını güncellemek istediğimizi belirtiyoruz"
   ]
  },
  {
   "cell_type": "code",
   "execution_count": 6,
   "metadata": {},
   "outputs": [],
   "source": [
    "addData()"
   ]
  },
  {
   "cell_type": "markdown",
   "metadata": {},
   "source": [
    "#### Kullanıcıdan aldığımız değerleri database'ye ekleme"
   ]
  },
  {
   "cell_type": "code",
   "execution_count": 9,
   "metadata": {},
   "outputs": [],
   "source": [
    "def addData2(name,publisher,author,page):\n",
    "    cursor.execute(\"INSERT INTO library VALUES(?,?,?,?)\",(name,publisher,author,page))\n",
    "    con.commit()"
   ]
  },
  {
   "cell_type": "code",
   "execution_count": 10,
   "metadata": {},
   "outputs": [
    {
     "name": "stdout",
     "output_type": "stream",
     "text": [
      "name: Notre Dame'in Kamburu\n",
      "publisher: Alter\n",
      "author: Victor HUGO\n",
      "page: 432\n"
     ]
    }
   ],
   "source": [
    "name=input(\"name: \")\n",
    "publisher=input(\"publisher: \")\n",
    "author=input(\"author: \")\n",
    "page=input(\"page: \")"
   ]
  },
  {
   "cell_type": "code",
   "execution_count": 11,
   "metadata": {},
   "outputs": [],
   "source": [
    "addData2(name,publisher,author,page)"
   ]
  }
 ],
 "metadata": {
  "kernelspec": {
   "display_name": "Python 3",
   "language": "python",
   "name": "python3"
  },
  "language_info": {
   "codemirror_mode": {
    "name": "ipython",
    "version": 3
   },
   "file_extension": ".py",
   "mimetype": "text/x-python",
   "name": "python",
   "nbconvert_exporter": "python",
   "pygments_lexer": "ipython3",
   "version": "3.8.5"
  }
 },
 "nbformat": 4,
 "nbformat_minor": 4
}
