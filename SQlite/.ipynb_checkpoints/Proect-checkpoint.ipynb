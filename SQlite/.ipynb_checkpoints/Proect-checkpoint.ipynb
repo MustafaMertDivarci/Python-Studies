{
 "cells": [
  {
   "cell_type": "code",
   "execution_count": 2,
   "metadata": {},
   "outputs": [],
   "source": [
    "import sqlite3\n",
    "import time"
   ]
  },
  {
   "cell_type": "code",
   "execution_count": 4,
   "metadata": {},
   "outputs": [],
   "source": [
    "class Book():\n",
    "    def __init__(self,name,author,publisher,typee,edition):\n",
    "        self.name=name\n",
    "        self.author=author\n",
    "        self.publisher=publisher\n",
    "        self.typee=typee\n",
    "        self.edition=edition\n",
    "    def __str__(self):\n",
    "        return \"Book Name: {}\\nAuthor: {}\\nPublisher: {}\\nType: {}\\nEdition: {}\".format(self.name,self.author,self.publisher,self.typee,self.edition)\n",
    "    "
   ]
  },
  {
   "cell_type": "code",
   "execution_count": 8,
   "metadata": {},
   "outputs": [],
   "source": [
    "class Library():\n",
    "    def __init__(self):\n",
    "        self.createConnect()\n",
    "    def createConnect(self):\n",
    "        self.connect=sqlite3.connect(\"Kütüphane.db\")\n",
    "        self.cursor=self.connect.cursor()\n",
    "        sorgu=\"CREATE TABLE IF NOT EXISTS books(Name TEXT,Author TEXT,Publisher TEXT,Type TEXT,Edition INT)\"\n",
    "        \n",
    "        self.cursor.execute(sorgu)\n",
    "        \n",
    "        self.connect.commit()\n",
    "        \n",
    "    def disconnect(self):\n",
    "        self.connect.close()\n",
    "    \n",
    "    def showBooks(self):\n",
    "        sorgu= \"SELECT*FROM books\"\n",
    "        \n",
    "        self.cursor.execute(self)\n",
    "        \n",
    "        books = self.cursor.fetchall()\n",
    "        \n",
    "        if(len(books)==0):\n",
    "            print(\"No books in library\")\n",
    "        else:\n",
    "            for i in books:\n",
    "                book= books(i[0],i[1],i[2],i[3],i[4])\n",
    "                print(books)\n",
    "    def bookSorgula(self,Name):\n",
    "        sorgu = \"SELECT*FROM books WHERE name=?\"\n",
    "        se"
   ]
  },
  {
   "cell_type": "code",
   "execution_count": null,
   "metadata": {},
   "outputs": [],
   "source": []
  },
  {
   "cell_type": "code",
   "execution_count": null,
   "metadata": {},
   "outputs": [],
   "source": []
  }
 ],
 "metadata": {
  "kernelspec": {
   "display_name": "Python 3",
   "language": "python",
   "name": "python3"
  },
  "language_info": {
   "codemirror_mode": {
    "name": "ipython",
    "version": 3
   },
   "file_extension": ".py",
   "mimetype": "text/x-python",
   "name": "python",
   "nbconvert_exporter": "python",
   "pygments_lexer": "ipython3",
   "version": "3.8.5"
  }
 },
 "nbformat": 4,
 "nbformat_minor": 4
}
