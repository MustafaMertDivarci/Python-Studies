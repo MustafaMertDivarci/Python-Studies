{
 "cells": [
  {
   "cell_type": "code",
   "execution_count": 50,
   "metadata": {},
   "outputs": [],
   "source": [
    "import sqlite3"
   ]
  },
  {
   "cell_type": "code",
   "execution_count": 51,
   "metadata": {},
   "outputs": [],
   "source": [
    "con=sqlite3.connect(\"GameLibrary.db\")"
   ]
  },
  {
   "cell_type": "code",
   "execution_count": 52,
   "metadata": {},
   "outputs": [],
   "source": [
    "cursor=con.cursor()"
   ]
  },
  {
   "cell_type": "code",
   "execution_count": 53,
   "metadata": {},
   "outputs": [],
   "source": [
    "def createTable():\n",
    "    \n",
    "    cursor.execute(\"CREATE TABLE IF NOT EXISTS GameLibrary(Name TEXT,Studio TEXT,ReleaseDate TEXT,Metacritic INT)\" )\n",
    "    \n",
    "    con.commit()"
   ]
  },
  {
   "cell_type": "code",
   "execution_count": 54,
   "metadata": {},
   "outputs": [],
   "source": [
    "createTable()"
   ]
  },
  {
   "cell_type": "code",
   "execution_count": 55,
   "metadata": {},
   "outputs": [],
   "source": [
    "def addData(name,studio,releaseDate,metacritic):\n",
    "    cursor.execute(\"INSERT INTO GameLibrary VALUES(?,?,?,?)\",(name,studio,releaseDate,metacritic))\n",
    "    con.commit()"
   ]
  },
  {
   "cell_type": "code",
   "execution_count": 60,
   "metadata": {},
   "outputs": [
    {
     "name": "stdout",
     "output_type": "stream",
     "text": [
      "Name is the game:SUPER MARIO GALAXY\n",
      "The game studio:Nintendo\n",
      "Release date:November 12, 2007\n",
      "Metacritic score:97\n"
     ]
    }
   ],
   "source": [
    "name=input(\"Name is the game:\")\n",
    "studio=input(\"The game studio:\")\n",
    "releaseDate=input(\"Release date:\")\n",
    "metacritic=int(input(\"Metacritic score:\"))"
   ]
  },
  {
   "cell_type": "code",
   "execution_count": 61,
   "metadata": {},
   "outputs": [],
   "source": [
    "addData(name,studio,releaseDate,metacritic)"
   ]
  },
  {
   "cell_type": "code",
   "execution_count": 62,
   "metadata": {},
   "outputs": [],
   "source": [
    "def getData():\n",
    "    cursor.execute(\"SELECT*FROM GameLibrary\")\n",
    "    liste=cursor.fetchall()\n",
    "    for i in liste:\n",
    "        print(i)"
   ]
  },
  {
   "cell_type": "code",
   "execution_count": 63,
   "metadata": {},
   "outputs": [
    {
     "name": "stdout",
     "output_type": "stream",
     "text": [
      "('Hades', 'Super Giant', 'August 13,2020', 93)\n",
      "('MICROSOFT FLIGHT SIMULATOR ', 'Asaboo', 'July 27,2021', 91)\n",
      "('FINAL FANTASY VII REMAKE INTERGRADE', 'Square Enix', 'June 10,2021', 89)\n",
      "('THE LEGEND OF ZELDA: OCARINA OF TIME', 'Nintendo', 'November 23,1998', 99)\n",
      "('SOULCALİBUR', 'Namco', 'September 8, 1999', 98)\n",
      "('SUPER MARIO GALAXY', 'Nintendo', 'November 12, 2007', 97)\n"
     ]
    }
   ],
   "source": [
    "getData()"
   ]
  },
  {
   "cell_type": "code",
   "execution_count": 64,
   "metadata": {},
   "outputs": [],
   "source": [
    "def updateData(oldData,newData):\n",
    "    cursor.execute(\"UPDATE GameLibrary SET Studio=? WHERE Studio=?\",(newData,oldData))\n",
    "    con.commit()"
   ]
  },
  {
   "cell_type": "code",
   "execution_count": 65,
   "metadata": {},
   "outputs": [],
   "source": [
    "updateData(\"Nintendo\",\"Wii\")"
   ]
  },
  {
   "cell_type": "code",
   "execution_count": 66,
   "metadata": {
    "scrolled": true
   },
   "outputs": [
    {
     "name": "stdout",
     "output_type": "stream",
     "text": [
      "('Hades', 'Super Giant', 'August 13,2020', 93)\n",
      "('MICROSOFT FLIGHT SIMULATOR ', 'Asaboo', 'July 27,2021', 91)\n",
      "('FINAL FANTASY VII REMAKE INTERGRADE', 'Square Enix', 'June 10,2021', 89)\n",
      "('THE LEGEND OF ZELDA: OCARINA OF TIME', 'Wii', 'November 23,1998', 99)\n",
      "('SOULCALİBUR', 'Namco', 'September 8, 1999', 98)\n",
      "('SUPER MARIO GALAXY', 'Wii', 'November 12, 2007', 97)\n"
     ]
    }
   ],
   "source": [
    "getData() # zelda ve mario nun studioları değişti"
   ]
  },
  {
   "cell_type": "code",
   "execution_count": 70,
   "metadata": {},
   "outputs": [],
   "source": [
    "def deleteData(name):\n",
    "    cursor.execute(\"DELETE FROM GameLibrary WHERE Name=?\",(name,)) # (name,) yazmamızın sebebi demet şeklinde yollamamız\n",
    "    con.commit()"
   ]
  },
  {
   "cell_type": "code",
   "execution_count": 75,
   "metadata": {},
   "outputs": [],
   "source": [
    "deleteData('MICROSOFT FLIGHT SIMULATOR ')"
   ]
  },
  {
   "cell_type": "code",
   "execution_count": 76,
   "metadata": {},
   "outputs": [
    {
     "name": "stdout",
     "output_type": "stream",
     "text": [
      "('Hades', 'Super Giant', 'August 13,2020', 93)\n",
      "('FINAL FANTASY VII REMAKE INTERGRADE', 'Square Enix', 'June 10,2021', 89)\n",
      "('THE LEGEND OF ZELDA: OCARINA OF TIME', 'Wii', 'November 23,1998', 99)\n",
      "('SOULCALİBUR', 'Namco', 'September 8, 1999', 98)\n",
      "('SUPER MARIO GALAXY', 'Wii', 'November 12, 2007', 97)\n"
     ]
    }
   ],
   "source": [
    "getData()"
   ]
  },
  {
   "cell_type": "code",
   "execution_count": null,
   "metadata": {},
   "outputs": [],
   "source": []
  },
  {
   "cell_type": "code",
   "execution_count": null,
   "metadata": {},
   "outputs": [],
   "source": []
  }
 ],
 "metadata": {
  "kernelspec": {
   "display_name": "Python 3",
   "language": "python",
   "name": "python3"
  },
  "language_info": {
   "codemirror_mode": {
    "name": "ipython",
    "version": 3
   },
   "file_extension": ".py",
   "mimetype": "text/x-python",
   "name": "python",
   "nbconvert_exporter": "python",
   "pygments_lexer": "ipython3",
   "version": "3.8.5"
  }
 },
 "nbformat": 4,
 "nbformat_minor": 4
}
