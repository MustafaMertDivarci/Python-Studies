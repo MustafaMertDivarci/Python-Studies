{
 "cells": [
  {
   "cell_type": "markdown",
   "metadata": {},
   "source": [
    "En çok kullanılan veritabanı türleri:\\\n",
    "\n",
    "**Relational Database(İlişkisel Veritabanları)**: Tablolardan oluşur. Mysql, Sqlite vs.\\\n",
    "**DocumentBased Database(Döküman Veritabanları)**: Dökümanlardan oluşur. MongoDb, Azure DocumentDb"
   ]
  },
  {
   "cell_type": "markdown",
   "metadata": {},
   "source": [
    "**Sqlite** ilişkisel bir veritabanıdır ve tablolardan oluşur.\\\n",
    "Her bir tablo veritabanında belli gruplanmış verileri tutar.\\\n",
    "Tabloları tıpkı bir excel dosyası gibi düşünebiliriz."
   ]
  },
  {
   "cell_type": "markdown",
   "metadata": {},
   "source": [
    "**Sqlite** veritabanı sunucu kurmayı gerektirmez."
   ]
  },
  {
   "cell_type": "code",
   "execution_count": 10,
   "metadata": {},
   "outputs": [],
   "source": [
    "import sqlite3 # sqlite' ı dahil ediyoruz."
   ]
  },
  {
   "cell_type": "code",
   "execution_count": 11,
   "metadata": {},
   "outputs": [],
   "source": [
    "con = sqlite3.connect(\"library.db\")  # Database'ye bağlanır. Eğer library.db yok ise yeni oluşturur."
   ]
  },
  {
   "cell_type": "code",
   "execution_count": 12,
   "metadata": {},
   "outputs": [],
   "source": [
    "cursor=con.cursor() #cunsor isimli değişken database üzerinde işlem yapmak için kullanacağımız imleç olacak."
   ]
  },
  {
   "cell_type": "code",
   "execution_count": 7,
   "metadata": {},
   "outputs": [],
   "source": [
    "con.close() # Bağlantıyı koparıyoruz."
   ]
  },
  {
   "cell_type": "markdown",
   "metadata": {},
   "source": [
    "### Create Table\n"
   ]
  },
  {
   "cell_type": "markdown",
   "metadata": {},
   "source": [
    "Veritabanında **library** isimli bir tablo oluşturmak için şu 2 sorgudan birini kullanabiliriz."
   ]
  },
  {
   "cell_type": "markdown",
   "metadata": {},
   "source": [
    "**CREATE TABLE library(name TEXt,publisher TEXT,author TEXT,page INT)** bu sorgu library isimli bir tablo oluşturacak ve bu  tablonun özellikleri name(TEXT-->String),publisher(TEXT-->String),author(TEXT-->String),page(INT-->int)olacak.\\\n",
    "Ancak bu sorguyu **ard arda çalıştırırsak \"Table Already Exist\"** hatası alacağız"
   ]
  },
  {
   "cell_type": "markdown",
   "metadata": {},
   "source": [
    "**CREATE TABLE IF NOT EXİST library(name TEXT,publisher TEXT,author TEXT,page INT)**\n",
    "Bu sorgu tablo yoksa oluşturacak, tablo var ise hata vermeyecektir. "
   ]
  },
  {
   "cell_type": "code",
   "execution_count": 2,
   "metadata": {},
   "outputs": [],
   "source": [
    "import sqlite3"
   ]
  },
  {
   "cell_type": "code",
   "execution_count": 3,
   "metadata": {},
   "outputs": [],
   "source": [
    "con = sqlite3.connect(\"library.db\")"
   ]
  },
  {
   "cell_type": "code",
   "execution_count": 4,
   "metadata": {},
   "outputs": [],
   "source": [
    "cursor=con.cursor()"
   ]
  },
  {
   "cell_type": "code",
   "execution_count": 5,
   "metadata": {},
   "outputs": [],
   "source": [
    "def createTable():\n",
    "    cursor.execute(\"CREATE TABLE IF NOT EXISTS library(Name TEXT,Publisher TEXt,Author TEXT,Page INT)\")\n",
    "    con.commit()  # eğer bunu demezsek dosyada tablo oluşmaz"
   ]
  },
  {
   "cell_type": "code",
   "execution_count": 6,
   "metadata": {},
   "outputs": [],
   "source": [
    "createTable()"
   ]
  },
  {
   "cell_type": "code",
   "execution_count": null,
   "metadata": {},
   "outputs": [],
   "source": []
  }
 ],
 "metadata": {
  "kernelspec": {
   "display_name": "Python 3",
   "language": "python",
   "name": "python3"
  },
  "language_info": {
   "codemirror_mode": {
    "name": "ipython",
    "version": 3
   },
   "file_extension": ".py",
   "mimetype": "text/x-python",
   "name": "python",
   "nbconvert_exporter": "python",
   "pygments_lexer": "ipython3",
   "version": "3.8.5"
  }
 },
 "nbformat": 4,
 "nbformat_minor": 4
}
