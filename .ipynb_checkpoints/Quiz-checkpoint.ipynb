{
 "cells": [
  {
   "cell_type": "markdown",
   "metadata": {},
   "source": [
    "1)"
   ]
  },
  {
   "cell_type": "code",
   "execution_count": 1,
   "metadata": {},
   "outputs": [],
   "source": [
    "string=\"ProgramlamaÖdeviİleriSeviyeVeriYapılarıveObjeleripynb\""
   ]
  },
  {
   "cell_type": "code",
   "execution_count": 6,
   "metadata": {},
   "outputs": [],
   "source": [
    "letters=dict()\n",
    "for i in string:\n",
    "    if(i in letters):\n",
    "        letters[i]+=1\n",
    "    else: letters[i]=1\n",
    "    "
   ]
  },
  {
   "cell_type": "code",
   "execution_count": 12,
   "metadata": {},
   "outputs": [
    {
     "name": "stdout",
     "output_type": "stream",
     "text": [
      "P harfinden 1 kez kullanılıyor.\n",
      "r harfinden 6 kez kullanılıyor.\n",
      "o harfinden 1 kez kullanılıyor.\n",
      "g harfinden 1 kez kullanılıyor.\n",
      "a harfinden 5 kez kullanılıyor.\n",
      "m harfinden 2 kez kullanılıyor.\n",
      "l harfinden 4 kez kullanılıyor.\n",
      "Ö harfinden 1 kez kullanılıyor.\n",
      "d harfinden 1 kez kullanılıyor.\n",
      "e harfinden 8 kez kullanılıyor.\n",
      "v harfinden 3 kez kullanılıyor.\n",
      "i harfinden 5 kez kullanılıyor.\n",
      "İ harfinden 1 kez kullanılıyor.\n",
      "S harfinden 1 kez kullanılıyor.\n",
      "y harfinden 2 kez kullanılıyor.\n",
      "V harfinden 1 kez kullanılıyor.\n",
      "Y harfinden 1 kez kullanılıyor.\n",
      "p harfinden 2 kez kullanılıyor.\n",
      "ı harfinden 2 kez kullanılıyor.\n",
      "O harfinden 1 kez kullanılıyor.\n",
      "b harfinden 2 kez kullanılıyor.\n",
      "j harfinden 1 kez kullanılıyor.\n",
      "n harfinden 1 kez kullanılıyor.\n"
     ]
    }
   ],
   "source": [
    "for word,count in letters.items():\n",
    "    print(\"{} harfinden {} kez kullanılıyor.\".format(word,count))"
   ]
  },
  {
   "cell_type": "markdown",
   "metadata": {},
   "source": [
    "2)"
   ]
  },
  {
   "cell_type": "code",
   "execution_count": 14,
   "metadata": {},
   "outputs": [
    {
     "ename": "FileNotFoundError",
     "evalue": "[Errno 2] No such file or directory: 'poem.txt'",
     "output_type": "error",
     "traceback": [
      "\u001b[1;31m---------------------------------------------------------------------------\u001b[0m",
      "\u001b[1;31mFileNotFoundError\u001b[0m                         Traceback (most recent call last)",
      "\u001b[1;32m<ipython-input-14-f1dd1837c8cd>\u001b[0m in \u001b[0;36m<module>\u001b[1;34m\u001b[0m\n\u001b[0;32m      1\u001b[0m \u001b[0mpoem\u001b[0m\u001b[1;33m=\u001b[0m\u001b[1;33m[\u001b[0m\u001b[1;33m]\u001b[0m\u001b[1;33m\u001b[0m\u001b[1;33m\u001b[0m\u001b[0m\n\u001b[0;32m      2\u001b[0m \u001b[1;33m\u001b[0m\u001b[0m\n\u001b[1;32m----> 3\u001b[1;33m \u001b[1;32mwith\u001b[0m \u001b[0mopen\u001b[0m\u001b[1;33m(\u001b[0m\u001b[1;34m\"poem.txt\"\u001b[0m\u001b[1;33m,\u001b[0m\u001b[1;34m\"r\"\u001b[0m\u001b[1;33m,\u001b[0m\u001b[0mencoding\u001b[0m\u001b[1;33m=\u001b[0m\u001b[1;34m\"utf-8\"\u001b[0m\u001b[1;33m)\u001b[0m \u001b[1;32mas\u001b[0m \u001b[0mfile\u001b[0m\u001b[1;33m:\u001b[0m\u001b[1;33m\u001b[0m\u001b[1;33m\u001b[0m\u001b[0m\n\u001b[0m\u001b[0;32m      4\u001b[0m     \u001b[1;32mfor\u001b[0m \u001b[0mi\u001b[0m \u001b[1;32min\u001b[0m \u001b[0mfile\u001b[0m\u001b[1;33m:\u001b[0m\u001b[1;33m\u001b[0m\u001b[1;33m\u001b[0m\u001b[0m\n\u001b[0;32m      5\u001b[0m         \u001b[0mpoem\u001b[0m\u001b[1;33m.\u001b[0m\u001b[0mappend\u001b[0m\u001b[1;33m(\u001b[0m\u001b[0mi\u001b[0m\u001b[1;33m)\u001b[0m\u001b[1;33m\u001b[0m\u001b[1;33m\u001b[0m\u001b[0m\n",
      "\u001b[1;31mFileNotFoundError\u001b[0m: [Errno 2] No such file or directory: 'poem.txt'"
     ]
    }
   ],
   "source": [
    "poem=[]\n",
    "\n",
    "with open(\"poem.txt\",\"r\",encoding=\"utf-8\") as file:\n",
    "    for i in file:\n",
    "        poem.append(i)"
   ]
  },
  {
   "cell_type": "code",
   "execution_count": null,
   "metadata": {},
   "outputs": [],
   "source": []
  },
  {
   "cell_type": "code",
   "execution_count": null,
   "metadata": {},
   "outputs": [],
   "source": []
  },
  {
   "cell_type": "code",
   "execution_count": null,
   "metadata": {},
   "outputs": [],
   "source": []
  },
  {
   "cell_type": "code",
   "execution_count": null,
   "metadata": {},
   "outputs": [],
   "source": []
  },
  {
   "cell_type": "code",
   "execution_count": null,
   "metadata": {},
   "outputs": [],
   "source": []
  }
 ],
 "metadata": {
  "kernelspec": {
   "display_name": "Python 3",
   "language": "python",
   "name": "python3"
  },
  "language_info": {
   "codemirror_mode": {
    "name": "ipython",
    "version": 3
   },
   "file_extension": ".py",
   "mimetype": "text/x-python",
   "name": "python",
   "nbconvert_exporter": "python",
   "pygments_lexer": "ipython3",
   "version": "3.8.5"
  }
 },
 "nbformat": 4,
 "nbformat_minor": 4
}
