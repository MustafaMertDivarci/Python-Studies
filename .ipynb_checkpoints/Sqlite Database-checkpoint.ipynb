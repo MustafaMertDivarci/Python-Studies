{
 "cells": [
  {
   "cell_type": "markdown",
   "metadata": {},
   "source": [
    "En çok kullanılan veritabanı türleri:\\\n",
    "\n",
    "**Relational Database(İlişkisel Veritabanları)**: Tablolardan oluşur. Mysql, Sqlite vs.\\\n",
    "**DocumentBased Database(Döküman Veritabanları)**: Dökümanlardan oluşur. MongoDb, Azure DocumentDb"
   ]
  },
  {
   "cell_type": "markdown",
   "metadata": {},
   "source": [
    "**Sqlite** ilişkisel bir veritabanıdır ve tablolardan oluşur.\\\n",
    "Her bir tablo veritabanında belli gruplanmış verileri tutar.\\\n",
    "Tabloları tıpkı bir excel dosyası gibi düşünebiliriz."
   ]
  },
  {
   "cell_type": "markdown",
   "metadata": {},
   "source": [
    "**Sqlite** veritabanı sunucu kurmayı gerektirmez."
   ]
  },
  {
   "cell_type": "code",
   "execution_count": 8,
   "metadata": {},
   "outputs": [],
   "source": [
    "import sqlite3 # sqlite' ı dahil ediyoruz."
   ]
  },
  {
   "cell_type": "code",
   "execution_count": 9,
   "metadata": {},
   "outputs": [],
   "source": [
    "con = sqlite3.connect(\"library.db\")  # Database'ye bağlanır. Eğer library.db yok ise yeni oluşturur."
   ]
  },
  {
   "cell_type": "code",
   "execution_count": 10,
   "metadata": {},
   "outputs": [],
   "source": [
    "cursor=con.cursor() #cunsor isimli değişken database üzerinde işlem yapmak için kullanacağımız imleç olacak."
   ]
  },
  {
   "cell_type": "code",
   "execution_count": 11,
   "metadata": {},
   "outputs": [],
   "source": [
    "con.close() # Bağlantıyı koparıyoruz."
   ]
  }
 ],
 "metadata": {
  "kernelspec": {
   "display_name": "Python 3",
   "language": "python",
   "name": "python3"
  },
  "language_info": {
   "codemirror_mode": {
    "name": "ipython",
    "version": 3
   },
   "file_extension": ".py",
   "mimetype": "text/x-python",
   "name": "python",
   "nbconvert_exporter": "python",
   "pygments_lexer": "ipython3",
   "version": "3.8.5"
  }
 },
 "nbformat": 4,
 "nbformat_minor": 4
}
