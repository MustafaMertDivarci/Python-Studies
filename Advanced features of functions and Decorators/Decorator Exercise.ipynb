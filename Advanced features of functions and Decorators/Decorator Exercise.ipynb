{
 "cells": [
  {
   "cell_type": "code",
   "execution_count": 13,
   "metadata": {},
   "outputs": [],
   "source": [
    "def extra(func):\n",
    "    \n",
    "    def wrapper(numbers):\n",
    "        \n",
    "        evenNumber=0\n",
    "        oddNumber=0\n",
    "        \n",
    "        sumEven=0\n",
    "        sumOdd=0\n",
    "        \n",
    "        for numb in numbers:\n",
    "            \n",
    "            if(numb%2==0):\n",
    "                evenNumber+=1\n",
    "                sumEven+=numb\n",
    "            else:\n",
    "                oddNumber+=1\n",
    "                sumOdd+=numb\n",
    "            \n",
    "        meanEven= sumEven/evenNumber\n",
    "        meanOdd= sumOdd/oddNumber\n",
    "        \n",
    "        print(\"Average of odd: \",meanOdd,\"Average of Even: \",meanEven)\n",
    "        \n",
    "        func(numbers) # calculateMean fonksiyonunu çağırdım.\n",
    "    return wrapper"
   ]
  },
  {
   "cell_type": "code",
   "execution_count": 14,
   "metadata": {},
   "outputs": [],
   "source": [
    "@extra\n",
    "def calculateMean(numbers):\n",
    "    sum=0\n",
    "    \n",
    "    for numb in numbers:\n",
    "        sum+=numb\n",
    "    print(\"Mean: \",sum/len(numbers))"
   ]
  },
  {
   "cell_type": "code",
   "execution_count": 17,
   "metadata": {},
   "outputs": [
    {
     "name": "stdout",
     "output_type": "stream",
     "text": [
      "Average of odd:  827.0 Average of Even:  826.0\n",
      "Mean:  826.5\n"
     ]
    }
   ],
   "source": [
    "calculateMean(range(1654))"
   ]
  }
 ],
 "metadata": {
  "kernelspec": {
   "display_name": "Python 3",
   "language": "python",
   "name": "python3"
  },
  "language_info": {
   "codemirror_mode": {
    "name": "ipython",
    "version": 3
   },
   "file_extension": ".py",
   "mimetype": "text/x-python",
   "name": "python",
   "nbconvert_exporter": "python",
   "pygments_lexer": "ipython3",
   "version": "3.8.5"
  }
 },
 "nbformat": 4,
 "nbformat_minor": 4
}
