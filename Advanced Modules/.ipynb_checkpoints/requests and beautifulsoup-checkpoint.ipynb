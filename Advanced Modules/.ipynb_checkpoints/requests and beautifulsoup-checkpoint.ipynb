{
 "cells": [
  {
   "cell_type": "code",
   "execution_count": 1,
   "metadata": {},
   "outputs": [],
   "source": [
    "import requests"
   ]
  },
  {
   "cell_type": "code",
   "execution_count": 2,
   "metadata": {},
   "outputs": [],
   "source": [
    "from bs4 import BeautifulSoup"
   ]
  },
  {
   "cell_type": "code",
   "execution_count": 10,
   "metadata": {},
   "outputs": [],
   "source": [
    "url=\"https://www.beyazperde.com/filmler/tum-filmleri/kullanici-puani/\""
   ]
  },
  {
   "cell_type": "code",
   "execution_count": 11,
   "metadata": {},
   "outputs": [],
   "source": [
    "response = requests.get(url)"
   ]
  },
  {
   "cell_type": "code",
   "execution_count": 12,
   "metadata": {},
   "outputs": [
    {
     "name": "stdout",
     "output_type": "stream",
     "text": [
      "<Response [200]>\n"
     ]
    }
   ],
   "source": [
    "print(response)"
   ]
  },
  {
   "cell_type": "code",
   "execution_count": 13,
   "metadata": {},
   "outputs": [],
   "source": [
    "htmlContent=response.content"
   ]
  },
  {
   "cell_type": "code",
   "execution_count": 14,
   "metadata": {},
   "outputs": [],
   "source": [
    "soup=BeautifulSoup(htmlContent,\"html.parser\")"
   ]
  },
  {
   "cell_type": "code",
   "execution_count": 18,
   "metadata": {
    "scrolled": false
   },
   "outputs": [
    {
     "name": "stdout",
     "output_type": "stream",
     "text": [
      "None\n",
      "******************************\n",
      "/\n",
      "******************************\n",
      "/filmler/vizyondakiler/sinema-sayisi/\n",
      "******************************\n",
      "/filmler/vizyondakiler/en-iyi-filmleri/kullanici-puani/\n",
      "******************************\n",
      "/filmler/en-merak-edilenler/\n",
      "******************************\n",
      "/filmler/en-kotu/kullanici-puani/\n",
      "******************************\n",
      "/filmler/tum-filmleri/cocuk/\n",
      "******************************\n",
      "/filmler/tum-filmleri/kullanici-puani/tur-13036/\n",
      "******************************\n",
      "/filmler/tum-filmleri/kullanici-puani/tur-13025/\n",
      "******************************\n",
      "/filmler/tum-filmleri/kullanici-puani/tur-13026/\n",
      "******************************\n",
      "/filmler/tum-filmleri/kullanici-puani/tur-13007/\n",
      "******************************\n",
      "/filmler/tum-filmleri/kullanici-puani/tur-13021/\n",
      "******************************\n",
      "/filmler/tum-filmleri/kullanici-puani/tur-13017/\n",
      "******************************\n",
      "/filmler/tum-filmleri/kullanici-puani/tur-13027/\n",
      "******************************\n",
      "/filmler/tum-filmleri/kullanici-puani/tur-13047/\n",
      "******************************\n",
      "/filmler/tum-filmleri/kullanici-puani/tur-13022/\n",
      "******************************\n",
      "/filmler/tum-filmleri/kullanici-puani/tur-13006/\n",
      "******************************\n",
      "/filmler/tum-filmleri/kullanici-puani/tur-13049/\n",
      "******************************\n",
      "/filmler/tum-filmleri/kullanici-puani/tur-13016/\n",
      "******************************\n",
      "/filmler/tum-filmleri/kullanici-puani/tur-13008/\n",
      "******************************\n",
      "/filmler/tum-filmleri/kullanici-puani/tur-13002/\n",
      "******************************\n",
      "/filmler/tum-filmleri/kullanici-puani/tur-13028/\n",
      "******************************\n",
      "/filmler/tum-filmleri/kullanici-puani/tur-13010/\n",
      "******************************\n",
      "/filmler/tum-filmleri/kullanici-puani/tur-13033/\n",
      "******************************\n",
      "/filmler/tum-filmleri/kullanici-puani/tur-13012/\n",
      "******************************\n",
      "/filmler/tum-filmleri/kullanici-puani/tur-13023/\n",
      "******************************\n",
      "/filmler/tum-filmleri/kullanici-puani/tur-13040/\n",
      "******************************\n",
      "/filmler/tum-filmleri/kullanici-puani/tur-13005/\n",
      "******************************\n",
      "/filmler/tum-filmleri/kullanici-puani/tur-13054/\n",
      "******************************\n",
      "/filmler/tum-filmleri/kullanici-puani/tur-13009/\n",
      "******************************\n",
      "/filmler/tum-filmleri/kullanici-puani/tur-13001/\n",
      "******************************\n",
      "/filmler/tum-filmleri/kullanici-puani/tur-13031/\n",
      "******************************\n",
      "/filmler/tum-filmleri/kullanici-puani/tur-13043/\n",
      "******************************\n",
      "/filmler/tum-filmleri/kullanici-puani/tur-13013/\n",
      "******************************\n",
      "/filmler/tum-filmleri/kullanici-puani/tur-13048/\n",
      "******************************\n",
      "/filmler/tum-filmleri/kullanici-puani/tur-13018/\n",
      "******************************\n",
      "/filmler/tum-filmleri/kullanici-puani/tur-13024/\n",
      "******************************\n",
      "/filmler/tum-filmleri/kullanici-puani/tur-13014/\n",
      "******************************\n",
      "/filmler/tum-filmleri/kullanici-puani/tur-13051/\n",
      "******************************\n",
      "/filmler/tum-filmleri/kullanici-puani/tur-13050/\n",
      "******************************\n",
      "/filmler/tum-filmleri/kullanici-puani/tur-13015/\n",
      "******************************\n",
      "/filmler/tum-filmleri/kullanici-puani/tur-13019/\n",
      "******************************\n",
      "#\n",
      "******************************\n",
      "/filmler/film-11736/\n",
      "******************************\n",
      "/filmler/film-11736/fragman-19512087/\n",
      "******************************\n",
      "/filmler/film-186607/\n",
      "******************************\n",
      "/filmler/film-186607/fragman-19461635/\n",
      "******************************\n",
      "/filmler/film-1628/\n",
      "******************************\n",
      "/filmler/film-1628/fragman-19507779/\n",
      "******************************\n",
      "/filmler/film-17646/\n",
      "******************************\n",
      "/filmler/film-17646/fragman-19533819/\n",
      "******************************\n",
      "/filmler/film-39187/\n",
      "******************************\n",
      "/filmler/film-39187/fragman-19533887/\n",
      "******************************\n",
      "/filmler/film-10080/\n",
      "******************************\n",
      "/filmler/film-10080/fragman-19511812/\n",
      "******************************\n",
      "/filmler/film-187146/\n",
      "******************************\n",
      "/filmler/film-187146/fragman-19520488/\n",
      "******************************\n",
      "/filmler/film-22779/\n",
      "******************************\n",
      "/filmler/film-22779/fragman-19511113/\n",
      "******************************\n",
      "/filmler/film-448/\n",
      "******************************\n",
      "/filmler/film-448/fragman-19512386/\n",
      "******************************\n",
      "/filmler/film-10568/\n",
      "******************************\n",
      "/filmler/film-10568/fragman-19511378/\n",
      "******************************\n",
      "/filmler/film-28201/\n",
      "******************************\n",
      "/filmler/film-28201/fragman-19520644/\n",
      "******************************\n",
      "/filmler/film-186610/\n",
      "******************************\n",
      "/filmler/film-19395/\n",
      "******************************\n",
      "/filmler/film-19395/fragman-19511503/\n",
      "******************************\n",
      "/filmler/film-186609/\n",
      "******************************\n",
      "/filmler/film-9684/\n",
      "******************************\n",
      "/filmler/film-9684/fragman-19511396/\n",
      "******************************\n",
      "/filmler/film-27070/\n",
      "******************************\n",
      "/filmler/film-27070/fragman-19512066/\n",
      "******************************\n",
      "/filmler/film-24944/\n",
      "******************************\n",
      "/filmler/film-24944/fragman-18915394/\n",
      "******************************\n",
      "/filmler/film-114655/\n",
      "******************************\n",
      "/filmler/film-114655/fragman-19520558/\n",
      "******************************\n",
      "/filmler/film-19776/\n",
      "******************************\n",
      "/filmler/film-19776/fragman-19507723/\n",
      "******************************\n",
      "/filmler/film-39186/\n",
      "******************************\n",
      "/filmler/film-39186/fragman-19512053/\n",
      "******************************\n",
      "/filmler/tum-filmleri/kullanici-puani/?page=2\n",
      "******************************\n",
      "/filmler/tum-filmleri/kullanici-puani/?page=3\n",
      "******************************\n",
      "/filmler/tum-filmleri/kullanici-puani/?page=4\n",
      "******************************\n",
      "/filmler/tum-filmleri/kullanici-puani/?page=5\n",
      "******************************\n",
      "/filmler/tum-filmleri/kullanici-puani/?page=6\n",
      "******************************\n",
      "/filmler/tum-filmleri/kullanici-puani/?page=7\n",
      "******************************\n",
      "/filmler/tum-filmleri/kullanici-puani/?page=8\n",
      "******************************\n",
      "/filmler/tum-filmleri/kullanici-puani/?page=9\n",
      "******************************\n"
     ]
    }
   ],
   "source": [
    "for i in soup.find_all(\"a\"):\n",
    "    print(i.get(\"href\"))\n",
    "    print(\"******************************\")"
   ]
  },
  {
   "cell_type": "code",
   "execution_count": null,
   "metadata": {},
   "outputs": [],
   "source": []
  }
 ],
 "metadata": {
  "kernelspec": {
   "display_name": "Python 3",
   "language": "python",
   "name": "python3"
  },
  "language_info": {
   "codemirror_mode": {
    "name": "ipython",
    "version": 3
   },
   "file_extension": ".py",
   "mimetype": "text/x-python",
   "name": "python",
   "nbconvert_exporter": "python",
   "pygments_lexer": "ipython3",
   "version": "3.8.5"
  }
 },
 "nbformat": 4,
 "nbformat_minor": 4
}
