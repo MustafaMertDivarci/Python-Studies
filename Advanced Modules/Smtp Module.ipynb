{
 "cells": [
  {
   "cell_type": "code",
   "execution_count": 1,
   "metadata": {},
   "outputs": [],
   "source": [
    "import smtplib"
   ]
  },
  {
   "cell_type": "code",
   "execution_count": 2,
   "metadata": {},
   "outputs": [],
   "source": [
    "from email.mime.multipart import MIMEMultipart"
   ]
  },
  {
   "cell_type": "code",
   "execution_count": 3,
   "metadata": {},
   "outputs": [],
   "source": [
    "from email.mime.text import MIMEText"
   ]
  },
  {
   "cell_type": "code",
   "execution_count": 4,
   "metadata": {},
   "outputs": [],
   "source": [
    "import sys"
   ]
  },
  {
   "cell_type": "code",
   "execution_count": 5,
   "metadata": {},
   "outputs": [],
   "source": [
    "message = MIMEMultipart()"
   ]
  },
  {
   "cell_type": "code",
   "execution_count": 6,
   "metadata": {},
   "outputs": [],
   "source": [
    "message[\"From\"]=\"mertdiv.97@gmail.com\" # kimden gideceği"
   ]
  },
  {
   "cell_type": "code",
   "execution_count": 7,
   "metadata": {},
   "outputs": [],
   "source": [
    "message[\"To\"]=\"mertdiv.97@gmail.com\" # kime geleceği"
   ]
  },
  {
   "cell_type": "code",
   "execution_count": 8,
   "metadata": {},
   "outputs": [],
   "source": [
    "message[\"Subject\"]=\"Smtp Mail Gönderme\" # başlık"
   ]
  },
  {
   "cell_type": "code",
   "execution_count": 9,
   "metadata": {},
   "outputs": [],
   "source": [
    "# mesaj içeriği\n",
    "message_content = \"\"\" \n",
    "smtp ile mail gönderiyorum\n",
    "\n",
    "Mustafa Mert Divarcı\n",
    "\n",
    "\n",
    "\"\"\""
   ]
  },
  {
   "cell_type": "code",
   "execution_count": 10,
   "metadata": {},
   "outputs": [],
   "source": [
    "message_body=MIMEText(message_content,\"plain\")"
   ]
  },
  {
   "cell_type": "code",
   "execution_count": 11,
   "metadata": {},
   "outputs": [],
   "source": [
    "message.attach(message_body)"
   ]
  },
  {
   "cell_type": "code",
   "execution_count": 17,
   "metadata": {},
   "outputs": [
    {
     "name": "stdout",
     "output_type": "stream",
     "text": [
      "Mail Gönderildi........\n"
     ]
    }
   ],
   "source": [
    "try:\n",
    "    mail=smtplib.SMTP(\"smtp.gmail.com\",587) #gmail kullanacağımızı belirttik. 587 gmailin kullanmamıza izin verdiği port\n",
    "    \n",
    "    mail.ehlo() # bağlantı kurmak istediğimizi bildirdik.\n",
    "    \n",
    "                    # burdaki satıları yazmazsak çalışmaz.\n",
    "        \n",
    "    mail.starttls() # mesajımızın şifrelenmesi için \n",
    "    \n",
    "    \n",
    "    mail.login(\"\",\"\") # \"mail adresi\",\"password\"\n",
    "    \n",
    "    mail.sendmail(message[\"From\"],message[\"To\"],message.as_string())\n",
    "    \n",
    "    print(\"Mail Gönderildi........\")\n",
    "    \n",
    "    mail.close()\n",
    "except:\n",
    "    sys.stderr.write(\"Bir sorun oluştu\")\n",
    "    sys.stderr.flush()"
   ]
  },
  {
   "cell_type": "code",
   "execution_count": null,
   "metadata": {},
   "outputs": [],
   "source": []
  },
  {
   "cell_type": "code",
   "execution_count": null,
   "metadata": {},
   "outputs": [],
   "source": []
  },
  {
   "cell_type": "code",
   "execution_count": null,
   "metadata": {},
   "outputs": [],
   "source": []
  },
  {
   "cell_type": "code",
   "execution_count": null,
   "metadata": {},
   "outputs": [],
   "source": []
  },
  {
   "cell_type": "code",
   "execution_count": null,
   "metadata": {},
   "outputs": [],
   "source": []
  },
  {
   "cell_type": "code",
   "execution_count": null,
   "metadata": {},
   "outputs": [],
   "source": []
  },
  {
   "cell_type": "code",
   "execution_count": null,
   "metadata": {},
   "outputs": [],
   "source": []
  }
 ],
 "metadata": {
  "kernelspec": {
   "display_name": "Python 3",
   "language": "python",
   "name": "python3"
  },
  "language_info": {
   "codemirror_mode": {
    "name": "ipython",
    "version": 3
   },
   "file_extension": ".py",
   "mimetype": "text/x-python",
   "name": "python",
   "nbconvert_exporter": "python",
   "pygments_lexer": "ipython3",
   "version": "3.8.5"
  }
 },
 "nbformat": 4,
 "nbformat_minor": 4
}
