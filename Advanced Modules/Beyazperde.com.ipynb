{
 "cells": [
  {
   "cell_type": "code",
   "execution_count": 1,
   "metadata": {},
   "outputs": [],
   "source": [
    "from bs4 import BeautifulSoup"
   ]
  },
  {
   "cell_type": "code",
   "execution_count": 2,
   "metadata": {},
   "outputs": [],
   "source": [
    "import requests"
   ]
  },
  {
   "cell_type": "code",
   "execution_count": 3,
   "metadata": {},
   "outputs": [],
   "source": [
    "url=\"https://www.beyazperde.com/filmler/tum-filmleri/kullanici-puani/\""
   ]
  },
  {
   "cell_type": "code",
   "execution_count": 4,
   "metadata": {},
   "outputs": [],
   "source": [
    "response = requests.get(url)"
   ]
  },
  {
   "cell_type": "code",
   "execution_count": 5,
   "metadata": {},
   "outputs": [],
   "source": [
    "htmlContent =response.content"
   ]
  },
  {
   "cell_type": "code",
   "execution_count": 6,
   "metadata": {},
   "outputs": [
    {
     "name": "stdout",
     "output_type": "stream",
     "text": [
      "<Response [200]>\n"
     ]
    }
   ],
   "source": [
    "print(response)"
   ]
  },
  {
   "cell_type": "code",
   "execution_count": 7,
   "metadata": {},
   "outputs": [],
   "source": [
    "soup=BeautifulSoup(htmlContent,\"html.parser\")"
   ]
  },
  {
   "cell_type": "code",
   "execution_count": 8,
   "metadata": {},
   "outputs": [],
   "source": [
    "movie_Name=soup.find_all(\"a\",{\"class\":\"no_underline\"})\n"
   ]
  },
  {
   "cell_type": "code",
   "execution_count": 9,
   "metadata": {},
   "outputs": [
    {
     "name": "stdout",
     "output_type": "stream",
     "text": [
      "Esaretin Bedeli\n",
      "Hababam Sınıfı\n",
      "Baba\n",
      "Eşkıya\n",
      "Yüzüklerin Efendisi: Kralın Dönüşü\n",
      "Cesuryürek\n",
      "Hababam Sınıfı Sınıfta Kaldı\n",
      "Yeşil Yol\n",
      "Geleceğe Dönüş\n",
      "Forrest Gump\n",
      "Baba 2\n",
      "Hababam Sınıfı Uyanıyor\n",
      "İyi, Kötü ve Çirkin\n",
      "Hababam Sınıfı Tatilde\n",
      "Sevginin Gücü\n",
      "Yüzüklerin Efendisi: Yüzük Kardeşliği\n",
      "Gladyatör\n",
      "Çağrı\n",
      "Matrix\n",
      "Yüzüklerin Efendisi: İki Kule\n"
     ]
    }
   ],
   "source": [
    "#filmlerin adlarını listeye attım.\n",
    "movieName=list() \n",
    "for i in movie_Name:\n",
    "    i=i.text\n",
    "    i=i.strip()\n",
    "    i=i.strip(\"\\n\")\n",
    "    movieName.append(i)\n",
    "    print(i)"
   ]
  },
  {
   "cell_type": "code",
   "execution_count": 10,
   "metadata": {},
   "outputs": [],
   "source": [
    "director2=soup.find_all(\"div\",{\"class\":\"oflow_a\"})\n"
   ]
  },
  {
   "cell_type": "code",
   "execution_count": 11,
   "metadata": {},
   "outputs": [],
   "source": [
    "# Direk yönetmenleri çekemedim. Bu yüzden bu algoritmayı kurdum.\n",
    "a=0\n",
    "directors=[]\n",
    "b=-3 # -3 değerini sadece 4 e bölünemesin diye verdim başka bir nedeni yok.\n",
    "for i in director2:\n",
    "    \n",
    "    if (a==1):\n",
    "        directors.append(i.text)\n",
    "        b=0\n",
    "    elif(b%4==0):\n",
    "        directors.append(i.text)\n",
    "    \n",
    "    a+=1\n",
    "    b+=1"
   ]
  },
  {
   "cell_type": "code",
   "execution_count": 12,
   "metadata": {},
   "outputs": [
    {
     "data": {
      "text/plain": [
       "['\\nFrank Darabont\\n',\n",
       " '\\nErtem Eğilmez\\n',\n",
       " '\\nFrancis Ford Coppola\\n',\n",
       " '\\nYavuz Turgul\\n',\n",
       " '\\nPeter Jackson\\n',\n",
       " '\\nMel Gibson\\n',\n",
       " '\\nErtem Eğilmez\\n',\n",
       " '\\nFrank Darabont\\n',\n",
       " '\\nRobert Zemeckis\\n',\n",
       " '\\nRobert Zemeckis\\n',\n",
       " '\\nFrancis Ford Coppola\\n',\n",
       " '\\nErtem Eğilmez\\n',\n",
       " '\\nSergio Leone\\n',\n",
       " '\\nErtem Eğilmez\\n',\n",
       " '\\nLuc Besson\\n',\n",
       " '\\nPeter Jackson\\n',\n",
       " '\\nRidley Scott\\n',\n",
       " '\\nMoustapha Akkad\\n',\n",
       " '\\nLana Wachowski, Lilly Wachowski\\n',\n",
       " '\\nPeter Jackson\\n']"
      ]
     },
     "execution_count": 12,
     "metadata": {},
     "output_type": "execute_result"
    }
   ],
   "source": [
    "directors"
   ]
  },
  {
   "cell_type": "code",
   "execution_count": 13,
   "metadata": {
    "scrolled": true
   },
   "outputs": [
    {
     "name": "stdout",
     "output_type": "stream",
     "text": [
      "Frank Darabont\n",
      "-----------------\n",
      "Ertem Eğilmez\n",
      "-----------------\n",
      "Francis Ford Coppola\n",
      "-----------------\n",
      "Yavuz Turgul\n",
      "-----------------\n",
      "Peter Jackson\n",
      "-----------------\n",
      "Mel Gibson\n",
      "-----------------\n",
      "Ertem Eğilmez\n",
      "-----------------\n",
      "Frank Darabont\n",
      "-----------------\n",
      "Robert Zemeckis\n",
      "-----------------\n",
      "Robert Zemeckis\n",
      "-----------------\n",
      "Francis Ford Coppola\n",
      "-----------------\n",
      "Ertem Eğilmez\n",
      "-----------------\n",
      "Sergio Leone\n",
      "-----------------\n",
      "Ertem Eğilmez\n",
      "-----------------\n",
      "Luc Besson\n",
      "-----------------\n",
      "Peter Jackson\n",
      "-----------------\n",
      "Ridley Scott\n",
      "-----------------\n",
      "Moustapha Akkad\n",
      "-----------------\n",
      "Lana Wachowski, Lilly Wachowski\n",
      "-----------------\n",
      "Peter Jackson\n",
      "-----------------\n"
     ]
    }
   ],
   "source": [
    "for i in directors:\n",
    "    i=i.strip()\n",
    "    i=i.replace(\"\\n\",\"\")\n",
    "    print(i)\n",
    "    print(\"-----------------\")"
   ]
  },
  {
   "cell_type": "code",
   "execution_count": 14,
   "metadata": {
    "scrolled": true
   },
   "outputs": [
    {
     "name": "stdout",
     "output_type": "stream",
     "text": [
      "Esaretin Bedeli\n",
      "----------------\n",
      "Hababam Sınıfı\n",
      "----------------\n",
      "Baba\n",
      "----------------\n",
      "Eşkıya\n",
      "----------------\n",
      "Yüzüklerin Efendisi: Kralın Dönüşü\n",
      "----------------\n",
      "Cesuryürek\n",
      "----------------\n",
      "Hababam Sınıfı Sınıfta Kaldı\n",
      "----------------\n",
      "Yeşil Yol\n",
      "----------------\n",
      "Geleceğe Dönüş\n",
      "----------------\n",
      "Forrest Gump\n",
      "----------------\n",
      "Baba 2\n",
      "----------------\n",
      "Hababam Sınıfı Uyanıyor\n",
      "----------------\n",
      "İyi, Kötü ve Çirkin\n",
      "----------------\n",
      "Hababam Sınıfı Tatilde\n",
      "----------------\n",
      "Sevginin Gücü\n",
      "----------------\n",
      "Yüzüklerin Efendisi: Yüzük Kardeşliği\n",
      "----------------\n",
      "Gladyatör\n",
      "----------------\n",
      "Çağrı\n",
      "----------------\n",
      "Matrix\n",
      "----------------\n",
      "Yüzüklerin Efendisi: İki Kule\n",
      "----------------\n"
     ]
    }
   ],
   "source": [
    "for i in movieName:\n",
    "    print(i)\n",
    "    print(\"----------------\")"
   ]
  },
  {
   "cell_type": "code",
   "execution_count": 15,
   "metadata": {},
   "outputs": [],
   "source": [
    "# kafa karıştırmasınlar\n",
    "del director2\n",
    "del movie_Name"
   ]
  },
  {
   "cell_type": "code",
   "execution_count": 16,
   "metadata": {},
   "outputs": [
    {
     "name": "stdout",
     "output_type": "stream",
     "text": [
      "Movie name: Esaretin Bedeli--Director: \n",
      "Frank Darabont\n",
      "Movie name: Hababam Sınıfı--Director: \n",
      "Ertem Eğilmez\n",
      "Movie name: Baba--Director: \n",
      "Francis Ford Coppola\n",
      "Movie name: Eşkıya--Director: \n",
      "Yavuz Turgul\n",
      "Movie name: Yüzüklerin Efendisi: Kralın Dönüşü--Director: \n",
      "Peter Jackson\n",
      "Movie name: Cesuryürek--Director: \n",
      "Mel Gibson\n",
      "Movie name: Hababam Sınıfı Sınıfta Kaldı--Director: \n",
      "Ertem Eğilmez\n",
      "Movie name: Yeşil Yol--Director: \n",
      "Frank Darabont\n",
      "Movie name: Geleceğe Dönüş--Director: \n",
      "Robert Zemeckis\n",
      "Movie name: Forrest Gump--Director: \n",
      "Robert Zemeckis\n",
      "Movie name: Baba 2--Director: \n",
      "Francis Ford Coppola\n",
      "Movie name: Hababam Sınıfı Uyanıyor--Director: \n",
      "Ertem Eğilmez\n",
      "Movie name: İyi, Kötü ve Çirkin--Director: \n",
      "Sergio Leone\n",
      "Movie name: Hababam Sınıfı Tatilde--Director: \n",
      "Ertem Eğilmez\n",
      "Movie name: Sevginin Gücü--Director: \n",
      "Luc Besson\n",
      "Movie name: Yüzüklerin Efendisi: Yüzük Kardeşliği--Director: \n",
      "Peter Jackson\n",
      "Movie name: Gladyatör--Director: \n",
      "Ridley Scott\n",
      "Movie name: Çağrı--Director: \n",
      "Moustapha Akkad\n",
      "Movie name: Matrix--Director: \n",
      "Lana Wachowski, Lilly Wachowski\n",
      "Movie name: Yüzüklerin Efendisi: İki Kule--Director: \n",
      "Peter Jackson\n"
     ]
    }
   ],
   "source": [
    "for name,director in zip(movieName,directors):\n",
    "    print(\"Movie name: {}--Director: {}\".format(name,director),end=\"\")"
   ]
  }
 ],
 "metadata": {
  "kernelspec": {
   "display_name": "Python 3",
   "language": "python",
   "name": "python3"
  },
  "language_info": {
   "codemirror_mode": {
    "name": "ipython",
    "version": 3
   },
   "file_extension": ".py",
   "mimetype": "text/x-python",
   "name": "python",
   "nbconvert_exporter": "python",
   "pygments_lexer": "ipython3",
   "version": "3.8.5"
  }
 },
 "nbformat": 4,
 "nbformat_minor": 4
}
