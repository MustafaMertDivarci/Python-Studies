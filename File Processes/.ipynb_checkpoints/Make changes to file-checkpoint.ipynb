{
 "cells": [
  {
   "cell_type": "code",
   "execution_count": 69,
   "metadata": {},
   "outputs": [],
   "source": [
    "with open(\"bilgiler.txt\",\"w\") as file:\n",
    "    file.write(\"Mustafa Mert Divarcı\\nElif Divarcı\\nEmine Divarcı\")"
   ]
  },
  {
   "cell_type": "markdown",
   "metadata": {},
   "source": [
    "### \"r+\"\n",
    "Hem okuma hem de yazma işlemi yapmamızı sağlar.\\\n",
    "open(\"bilgiler.txt\",\"r+\")"
   ]
  },
  {
   "cell_type": "code",
   "execution_count": 3,
   "metadata": {},
   "outputs": [
    {
     "name": "stdout",
     "output_type": "stream",
     "text": [
      "Mustafa Mert Divarcı\n",
      "Elif Divarcı\n",
      "Emine Divarcı\n"
     ]
    }
   ],
   "source": [
    "with open(\"bilgiler.txt\",\"r+\") as file:\n",
    "    print(file.read())"
   ]
  },
  {
   "cell_type": "code",
   "execution_count": 6,
   "metadata": {},
   "outputs": [],
   "source": [
    "with open(\"bilgiler.txt\",\"r+\") as file:\n",
    "    file.seek(10)\n",
    "    file.write(\"Deneme\")"
   ]
  },
  {
   "cell_type": "code",
   "execution_count": 7,
   "metadata": {},
   "outputs": [
    {
     "name": "stdout",
     "output_type": "stream",
     "text": [
      "Mustafa MeDenemearcı\n",
      "Elif Divarcı\n",
      "Emine Divarcı\n"
     ]
    }
   ],
   "source": [
    "with open(\"bilgiler.txt\",\"r+\") as file:\n",
    "    print(file.read())"
   ]
  },
  {
   "cell_type": "code",
   "execution_count": 52,
   "metadata": {},
   "outputs": [],
   "source": [
    "with open(\"bilgiler.txt\",\"w\") as file: # dosyayı eski haline getirdim.\n",
    "    file.write(\"Mustafa Mert Divarcı\\nElif Divarcı\\nEmine Divarcı\")"
   ]
  },
  {
   "cell_type": "code",
   "execution_count": 53,
   "metadata": {},
   "outputs": [
    {
     "name": "stdout",
     "output_type": "stream",
     "text": [
      "Mustafa Mert Divarcı\n",
      "Elif Divarcı\n",
      "Emine Divarcı\n"
     ]
    }
   ],
   "source": [
    "\n",
    "with open(\"bilgiler.txt\",\"r+\") as file:\n",
    "    print(file.read())"
   ]
  },
  {
   "cell_type": "code",
   "execution_count": 54,
   "metadata": {},
   "outputs": [],
   "source": [
    "# dosyanın sonuna bir şey eklemek istersek \"a\" kullanırız.\n",
    "with open(\"bilgiler.txt\",\"a\") as file:\n",
    "    file.write(\"\\nAşkın Divarcı\\n\")"
   ]
  },
  {
   "cell_type": "code",
   "execution_count": 55,
   "metadata": {},
   "outputs": [
    {
     "name": "stdout",
     "output_type": "stream",
     "text": [
      "Mustafa Mert Divarcı\n",
      "Elif Divarcı\n",
      "Emine Divarcı\n",
      "Aşkın Divarcı\n",
      "\n"
     ]
    }
   ],
   "source": [
    "with open(\"bilgiler.txt\",\"r+\") as file:\n",
    "    print(file.read())"
   ]
  },
  {
   "cell_type": "markdown",
   "metadata": {},
   "source": [
    "##### Dosyanın başına içerik ekleme.\n",
    "Aşağıdaki örnekte bütün dosyayı tekrardan yazdırdık."
   ]
  },
  {
   "cell_type": "code",
   "execution_count": 56,
   "metadata": {},
   "outputs": [],
   "source": [
    "\n",
    "with open(\"bilgiler.txt\",\"r+\") as file:\n",
    "    \n",
    "    content=file.read()\n",
    "    \n",
    "    # content+=\"Gofret Divarcı\\n\"                  böyle yaparsan düzgün çalışmaz\n",
    "    \n",
    "    content=\"Gofret Divarcı\\n\" + content\n",
    "    \n",
    "    file.seek(0)\n",
    "    file.write(content)"
   ]
  },
  {
   "cell_type": "code",
   "execution_count": 57,
   "metadata": {},
   "outputs": [
    {
     "name": "stdout",
     "output_type": "stream",
     "text": [
      "Gofret Divarcı\n",
      "Mustafa Mert Divarcı\n",
      "Elif Divarcı\n",
      "Emine Divarcı\n",
      "Aşkın Divarcı\n",
      "\n"
     ]
    }
   ],
   "source": [
    "with open(\"bilgiler.txt\",\"r+\") as file:\n",
    "    print(file.read())"
   ]
  },
  {
   "cell_type": "markdown",
   "metadata": {},
   "source": [
    "##### Dosyanın ortasına içerik ekleme\n"
   ]
  },
  {
   "cell_type": "code",
   "execution_count": 58,
   "metadata": {},
   "outputs": [
    {
     "name": "stdout",
     "output_type": "stream",
     "text": [
      "['Gofret Divarcı\\n', 'Mustafa Mert Divarcı\\n', 'Elif Divarcı\\n', 'Emine Divarcı\\n', 'Aşkın Divarcı\\n']\n"
     ]
    }
   ],
   "source": [
    "with open(\"bilgiler.txt\",\"r+\") as file:\n",
    "    liste=file.readlines()\n",
    "    print(liste)"
   ]
  },
  {
   "cell_type": "code",
   "execution_count": 70,
   "metadata": {},
   "outputs": [],
   "source": [
    "with open(\"bilgiler.txt\",\"r+\") as file:\n",
    "    liste=file.readlines()\n",
    "    liste.insert(3,\"\\nBıdık Divarcı\\n\")\n",
    "    file.seek(0)\n",
    "    \n",
    "    # buradaki for döngüsü yerine...\n",
    "  #  for i in liste:\n",
    "   #     file.write(i)\n",
    "    file.writelines(liste)"
   ]
  },
  {
   "cell_type": "code",
   "execution_count": 71,
   "metadata": {},
   "outputs": [
    {
     "name": "stdout",
     "output_type": "stream",
     "text": [
      "Mustafa Mert Divarcı\n",
      "Elif Divarcı\n",
      "Emine Divarcı\n",
      "Bıdık Divarcı\n",
      "\n"
     ]
    }
   ],
   "source": [
    "with open(\"bilgiler.txt\",\"r+\") as file:\n",
    "    print(file.read())"
   ]
  },
  {
   "cell_type": "code",
   "execution_count": null,
   "metadata": {},
   "outputs": [],
   "source": []
  },
  {
   "cell_type": "code",
   "execution_count": null,
   "metadata": {},
   "outputs": [],
   "source": []
  },
  {
   "cell_type": "code",
   "execution_count": null,
   "metadata": {},
   "outputs": [],
   "source": []
  }
 ],
 "metadata": {
  "kernelspec": {
   "display_name": "Python 3",
   "language": "python",
   "name": "python3"
  },
  "language_info": {
   "codemirror_mode": {
    "name": "ipython",
    "version": 3
   },
   "file_extension": ".py",
   "mimetype": "text/x-python",
   "name": "python",
   "nbconvert_exporter": "python",
   "pygments_lexer": "ipython3",
   "version": "3.8.5"
  }
 },
 "nbformat": 4,
 "nbformat_minor": 4
}
