{
 "cells": [
  {
   "cell_type": "code",
   "execution_count": 1,
   "metadata": {},
   "outputs": [],
   "source": [
    "def calculateStudent(line):\n",
    "    line=line[:-1]\n",
    "    liste=line.split(\",\")\n",
    "    \n",
    "    name=liste[0]\n",
    "    midterm1=int(liste[1])\n",
    "    midterm2=int(liste[2])\n",
    "    final=int(liste[3])\n",
    "    \n",
    "    averageExam= midterm1*(0.3)+midterm2*(0.3)+final*(0.4)\n",
    "    resultListe=[]\n",
    "    \n",
    "    if(averageExam>60):\n",
    "        result=\"Passed\"\n",
    "    else:result=\"Failed\"\n",
    "    resultListe=[name,result]\n",
    "    return    resultListe\n",
    "    "
   ]
  },
  {
   "cell_type": "code",
   "execution_count": 2,
   "metadata": {},
   "outputs": [],
   "source": [
    "with open(\"dosya.txt\",\"r\",encoding=\"utf-8\") as file:\n",
    "    newListe=[]\n",
    "    for i in file:\n",
    "        newListe.append(calculateStudent(i))\n",
    "        \n",
    "        "
   ]
  },
  {
   "cell_type": "code",
   "execution_count": 3,
   "metadata": {},
   "outputs": [],
   "source": [
    "passed=[]\n",
    "failed=[]\n",
    "for i in newListe:\n",
    "    if(\"Passed\" in i):\n",
    "        passed.append(i)\n",
    "    else:\n",
    "        failed.append(i)"
   ]
  },
  {
   "cell_type": "code",
   "execution_count": 4,
   "metadata": {},
   "outputs": [
    {
     "name": "stdout",
     "output_type": "stream",
     "text": [
      "['Mustafa Akyürek', 'Passed']\n",
      "['Elif Akşit', 'Passed']\n",
      "['Hatice Dağdaş', 'Passed']\n",
      "['Emine Kumcuoğlu', 'Passed']\n",
      "['Şerife Kumcuoğlu', 'Passed']\n",
      "['Sude Tekand', 'Passed']\n",
      "['Fadime Akyürek', 'Passed']\n",
      "['Fatma Akşit', 'Passed']\n",
      "['Hacer Korol', 'Passed']\n",
      "['Recep Altınbaş', 'Passed']\n",
      "['Murat Numanoğlu', 'Passed']\n",
      "['Emir Egeli', 'Passed']\n",
      "['Hacer Okumuş', 'Passed']\n",
      "['Zeliha Ağaoğlu', 'Passed']\n",
      "['Hacer Karaer', 'Passed']\n",
      "['Hanife Söyler', 'Passed']\n",
      "['Sultan Uluç', 'Passed']\n",
      "['Hanife Beşok', 'Passed']\n",
      "['Halil Güçlü', 'Passed']\n",
      "['Büşra Koyuncu', 'Passed']\n",
      "['Hülya Gürmen', 'Passed']\n",
      "['Zeliha Demirel', 'Passed']\n",
      "['Mustafa Aşıkoğlu', 'Passed']\n",
      "['Süleyman Orbay', 'Passed']\n",
      "['Şerife Süleymanoğlu', 'Passed']\n",
      "['Murat Adal', 'Passed']\n",
      "['Osman Aybar', 'Passed']\n",
      "['Zeynep Koyuncu', 'Passed']\n",
      "['Emre Kurutluoğlu', 'Passed']\n",
      "['Yusuf Hamzaoğlu', 'Passed']\n",
      "['Ali Akan', 'Passed']\n",
      "['Zeliha Beşerler', 'Passed']\n"
     ]
    }
   ],
   "source": [
    "for i in passed:\n",
    "    print(i)"
   ]
  },
  {
   "cell_type": "code",
   "execution_count": 5,
   "metadata": {},
   "outputs": [
    {
     "name": "stdout",
     "output_type": "stream",
     "text": [
      "['Hatice Günday', 'Failed']\n",
      "['Ramazan Topaloğlu', 'Failed']\n",
      "['Mehmet Düşenkalkar', 'Failed']\n",
      "['Merve Tütüncü', 'Failed']\n",
      "['Hatice Pekkan', 'Failed']\n",
      "['Merve Alyanak', 'Failed']\n",
      "['Meryem Aşıkoğlu', 'Failed']\n",
      "['Süleyman Uluhan', 'Failed']\n",
      "['Esra Ekici', 'Failed']\n",
      "['Süleyman Kumcuoğlu', 'Failed']\n",
      "['Elif Nebioğlu', 'Failed']\n",
      "['Sude Berberoğlu', 'Failed']\n",
      "['Yasemin Durmaz', 'Failed']\n",
      "['Emre Sözeri', 'Failed']\n",
      "['Yasemin Kurutluoğlu', 'Failed']\n",
      "['Fatma Akman', 'Failed']\n",
      "['Fatih Fahri', 'Failed']\n",
      "['Halil Sarıoğlu', 'Failed']\n",
      "['Merve Arıcan', 'Failed']\n",
      "['İsmail Kaplangı', 'Failed']\n",
      "['Havva Erbulak', 'Failed']\n",
      "['Salih Ağaoğlu', 'Failed']\n",
      "['Abdullah Solmaz', 'Failed']\n",
      "['Fatih Elmastaşoğlu', 'Failed']\n",
      "['Sude Kumcuoğlu', 'Failed']\n",
      "['Abdullah Kuzucu', 'Failed']\n",
      "['Sude Orbay', 'Failed']\n",
      "['Hülya Karadaş', 'Failed']\n",
      "['Fatma Tuğluk', 'Failed']\n",
      "['Recep Eronat', 'Failed']\n",
      "['Hüseyin Kunt', 'Failed']\n",
      "['Halil Numanoğlu', 'Failed']\n",
      "['Ömer Kulaksızoğlu', 'Failed']\n",
      "['İbrahim Erez', 'Failed']\n",
      "['Süleyman Koçyiğit', 'Failed']\n",
      "['Salih Orbay', 'Failed']\n",
      "['Sude Balcı', 'Failed']\n",
      "['İbrahim Pekkan', 'Failed']\n",
      "['Fatih Erdoğan', 'Failed']\n",
      "['Abdullah Ekşioğlu', 'Failed']\n",
      "['Osman Adan', 'Failed']\n",
      "['Ramazan Paksüt', 'Failed']\n",
      "['Halil Gökgöz', 'Failed']\n",
      "['Mahmut Akışık', 'Failed']\n",
      "['Ali Oraloğlu', 'Failed']\n",
      "['Hanife Poçan', 'Failed']\n",
      "['Ayşe Kurutluoğlu', 'Failed']\n",
      "['Fatih Akman', 'Failed']\n",
      "['Mehmet Babacan', 'Failed']\n"
     ]
    }
   ],
   "source": [
    "for i in failed:\n",
    "    print(i)"
   ]
  },
  {
   "cell_type": "code",
   "execution_count": 6,
   "metadata": {},
   "outputs": [
    {
     "name": "stdout",
     "output_type": "stream",
     "text": [
      "['Hatice Günday', 'Failed']\n",
      "['Ramazan Topaloğlu', 'Failed']\n",
      "['Mehmet Düşenkalkar', 'Failed']\n",
      "['Merve Tütüncü', 'Failed']\n",
      "['Hatice Pekkan', 'Failed']\n",
      "['Merve Alyanak', 'Failed']\n",
      "['Meryem Aşıkoğlu', 'Failed']\n",
      "['Süleyman Uluhan', 'Failed']\n",
      "['Esra Ekici', 'Failed']\n",
      "['Süleyman Kumcuoğlu', 'Failed']\n",
      "['Elif Nebioğlu', 'Failed']\n",
      "['Sude Berberoğlu', 'Failed']\n",
      "['Yasemin Durmaz', 'Failed']\n",
      "['Emre Sözeri', 'Failed']\n",
      "['Yasemin Kurutluoğlu', 'Failed']\n",
      "['Fatma Akman', 'Failed']\n",
      "['Fatih Fahri', 'Failed']\n",
      "['Halil Sarıoğlu', 'Failed']\n",
      "['Merve Arıcan', 'Failed']\n",
      "['İsmail Kaplangı', 'Failed']\n",
      "['Havva Erbulak', 'Failed']\n",
      "['Salih Ağaoğlu', 'Failed']\n",
      "['Abdullah Solmaz', 'Failed']\n",
      "['Fatih Elmastaşoğlu', 'Failed']\n",
      "['Sude Kumcuoğlu', 'Failed']\n",
      "['Abdullah Kuzucu', 'Failed']\n",
      "['Sude Orbay', 'Failed']\n",
      "['Hülya Karadaş', 'Failed']\n",
      "['Fatma Tuğluk', 'Failed']\n",
      "['Recep Eronat', 'Failed']\n",
      "['Hüseyin Kunt', 'Failed']\n",
      "['Halil Numanoğlu', 'Failed']\n",
      "['Ömer Kulaksızoğlu', 'Failed']\n",
      "['İbrahim Erez', 'Failed']\n",
      "['Süleyman Koçyiğit', 'Failed']\n",
      "['Salih Orbay', 'Failed']\n",
      "['Sude Balcı', 'Failed']\n",
      "['İbrahim Pekkan', 'Failed']\n",
      "['Fatih Erdoğan', 'Failed']\n",
      "['Abdullah Ekşioğlu', 'Failed']\n",
      "['Osman Adan', 'Failed']\n",
      "['Ramazan Paksüt', 'Failed']\n",
      "['Halil Gökgöz', 'Failed']\n",
      "['Mahmut Akışık', 'Failed']\n",
      "['Ali Oraloğlu', 'Failed']\n",
      "['Hanife Poçan', 'Failed']\n",
      "['Ayşe Kurutluoğlu', 'Failed']\n",
      "['Fatih Akman', 'Failed']\n",
      "['Mehmet Babacan', 'Failed']\n"
     ]
    }
   ],
   "source": [
    "for i in failed:\n",
    "    print(i)"
   ]
  },
  {
   "cell_type": "code",
   "execution_count": 7,
   "metadata": {},
   "outputs": [
    {
     "ename": "TypeError",
     "evalue": "write() argument must be str, not list",
     "output_type": "error",
     "traceback": [
      "\u001b[1;31m---------------------------------------------------------------------------\u001b[0m",
      "\u001b[1;31mTypeError\u001b[0m                                 Traceback (most recent call last)",
      "\u001b[1;32m<ipython-input-7-5b7e7575aa9a>\u001b[0m in \u001b[0;36m<module>\u001b[1;34m\u001b[0m\n\u001b[0;32m      1\u001b[0m \u001b[1;32mwith\u001b[0m \u001b[0mopen\u001b[0m\u001b[1;33m(\u001b[0m\u001b[1;34m\"failed.txt\"\u001b[0m\u001b[1;33m,\u001b[0m\u001b[1;34m\"w\"\u001b[0m\u001b[1;33m,\u001b[0m\u001b[0mencoding\u001b[0m\u001b[1;33m=\u001b[0m\u001b[1;34m\"utf-8\"\u001b[0m\u001b[1;33m)\u001b[0m \u001b[1;32mas\u001b[0m \u001b[0mfile3\u001b[0m\u001b[1;33m:\u001b[0m\u001b[1;33m\u001b[0m\u001b[1;33m\u001b[0m\u001b[0m\n\u001b[0;32m      2\u001b[0m     \u001b[1;32mfor\u001b[0m \u001b[0mi\u001b[0m \u001b[1;32min\u001b[0m \u001b[0mfailed\u001b[0m\u001b[1;33m:\u001b[0m\u001b[1;33m\u001b[0m\u001b[1;33m\u001b[0m\u001b[0m\n\u001b[1;32m----> 3\u001b[1;33m         \u001b[0mfile3\u001b[0m\u001b[1;33m.\u001b[0m\u001b[0mwrite\u001b[0m\u001b[1;33m(\u001b[0m\u001b[0mi\u001b[0m\u001b[1;33m)\u001b[0m\u001b[1;33m\u001b[0m\u001b[1;33m\u001b[0m\u001b[0m\n\u001b[0m",
      "\u001b[1;31mTypeError\u001b[0m: write() argument must be str, not list"
     ]
    }
   ],
   "source": [
    "with open(\"failed.txt\",\"w\",encoding=\"utf-8\") as file3:\n",
    "    for i in failed:\n",
    "        file3.write(i)"
   ]
  }
 ],
 "metadata": {
  "kernelspec": {
   "display_name": "Python 3",
   "language": "python",
   "name": "python3"
  },
  "language_info": {
   "codemirror_mode": {
    "name": "ipython",
    "version": 3
   },
   "file_extension": ".py",
   "mimetype": "text/x-python",
   "name": "python",
   "nbconvert_exporter": "python",
   "pygments_lexer": "ipython3",
   "version": "3.8.5"
  }
 },
 "nbformat": 4,
 "nbformat_minor": 4
}
