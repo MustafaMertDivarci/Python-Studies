{
 "cells": [
  {
   "cell_type": "markdown",
   "metadata": {},
   "source": [
    "## Auto close files\n",
    "Dosya ile işimiz bittikten sonra **otomatik** kapatmaya yarıyor"
   ]
  },
  {
   "cell_type": "code",
   "execution_count": 1,
   "metadata": {},
   "outputs": [
    {
     "name": "stdout",
     "output_type": "stream",
     "text": [
      "Mustafa Mert Divarcı\n",
      "\n",
      "Elif Divarcı\n",
      "\n",
      "Emine Divarcı\n"
     ]
    }
   ],
   "source": [
    "with open(\"bilgiler.txt\",\"r\") as file:\n",
    "    for i in file:\n",
    "        print(i)"
   ]
  },
  {
   "cell_type": "markdown",
   "metadata": {},
   "source": [
    "## Forward and rewind files\n",
    "önce **tell()** fonksiyonu ile hangi byte da olduğumuz öğrenip\\\n",
    "Sonra **seek()** fonksiyonu ile imlecimizi ileri veya geri sarma işlemimizi yapıcaz."
   ]
  },
  {
   "cell_type": "code",
   "execution_count": 2,
   "metadata": {},
   "outputs": [
    {
     "name": "stdout",
     "output_type": "stream",
     "text": [
      "0\n"
     ]
    }
   ],
   "source": [
    "with open(\"bilgiler.txt\",\"r\") as file:\n",
    "    print(file.tell())"
   ]
  },
  {
   "cell_type": "code",
   "execution_count": 4,
   "metadata": {},
   "outputs": [
    {
     "name": "stdout",
     "output_type": "stream",
     "text": [
      "0\n",
      "20\n"
     ]
    }
   ],
   "source": [
    "with open(\"bilgiler.txt\",\"r\") as file:\n",
    "    print(file.tell())\n",
    "    file.seek(20)\n",
    "    print(file.tell())"
   ]
  },
  {
   "cell_type": "code",
   "execution_count": 5,
   "metadata": {},
   "outputs": [],
   "source": [
    "with open(\"bilgiler.txt\",\"w\") as file: # dosyanın içini boşaltmak için \"w\" ile çağırdım\n",
    "    file.write(\"Python,Java,C,Php Programlama dilleridir.\")"
   ]
  },
  {
   "cell_type": "code",
   "execution_count": 8,
   "metadata": {},
   "outputs": [
    {
     "name": "stdout",
     "output_type": "stream",
     "text": [
      "n,Java,C,P\n"
     ]
    }
   ],
   "source": [
    "with open(\"bilgiler.txt\",\"r\") as file:\n",
    "    file.seek(5)\n",
    "    content=file.read(10)  # içine 10 yazarak 10 bytle'lık okuma yapmak istediğimizi söyledik\n",
    "    print(content)"
   ]
  },
  {
   "cell_type": "code",
   "execution_count": 9,
   "metadata": {},
   "outputs": [
    {
     "name": "stdout",
     "output_type": "stream",
     "text": [
      "15\n",
      "n,Java,C,P\n"
     ]
    }
   ],
   "source": [
    "with open(\"bilgiler.txt\",\"r\") as file:\n",
    "    file.seek(5)\n",
    "    content=file.read(10)\n",
    "    print(file.tell())\n",
    "    print(content)\n",
    "    "
   ]
  },
  {
   "cell_type": "code",
   "execution_count": 10,
   "metadata": {},
   "outputs": [
    {
     "name": "stdout",
     "output_type": "stream",
     "text": [
      "15\n",
      "n,Java,C,P\n",
      "0\n"
     ]
    }
   ],
   "source": [
    "with open(\"bilgiler.txt\",\"r\") as file:\n",
    "    file.seek(5)\n",
    "    content=file.read(10)  \n",
    "    print(file.tell())\n",
    "    print(content)\n",
    "    file.seek(0)\n",
    "    print(file.tell())"
   ]
  },
  {
   "cell_type": "code",
   "execution_count": null,
   "metadata": {},
   "outputs": [],
   "source": []
  }
 ],
 "metadata": {
  "kernelspec": {
   "display_name": "Python 3",
   "language": "python",
   "name": "python3"
  },
  "language_info": {
   "codemirror_mode": {
    "name": "ipython",
    "version": 3
   },
   "file_extension": ".py",
   "mimetype": "text/x-python",
   "name": "python",
   "nbconvert_exporter": "python",
   "pygments_lexer": "ipython3",
   "version": "3.8.5"
  }
 },
 "nbformat": 4,
 "nbformat_minor": 4
}
