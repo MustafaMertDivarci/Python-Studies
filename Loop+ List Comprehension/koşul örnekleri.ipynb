{
 "cells": [
  {
   "cell_type": "markdown",
   "metadata": {},
   "source": [
    "# Hesap Makinesi"
   ]
  },
  {
   "cell_type": "code",
   "execution_count": null,
   "metadata": {},
   "outputs": [],
   "source": [
    "num1=float(input(\"enter numb 1: \"))"
   ]
  },
  {
   "cell_type": "code",
   "execution_count": null,
   "metadata": {},
   "outputs": [],
   "source": [
    "num2=float(input(\"enter numb 2: \"))"
   ]
  },
  {
   "cell_type": "code",
   "execution_count": null,
   "metadata": {},
   "outputs": [],
   "source": [
    "operation=(input(\"pleaze enter your op. :\"))"
   ]
  },
  {
   "cell_type": "code",
   "execution_count": null,
   "metadata": {},
   "outputs": [],
   "source": [
    "answer =0\n",
    "if (operation == \"+\"):\n",
    "    answer=num1+num2\n",
    "    print(answer)\n",
    "elif (operation == \"-\"):\n",
    "    answer=num1-num2\n",
    "    print(answer)\n",
    "elif (operation == \"/\"):\n",
    "    answer=num1/num2\n",
    "    print(answer)\n",
    "elif (operation == \"*\"):\n",
    "    answer=num1*num2\n",
    "    print(answer)\n",
    "else:\n",
    "    print(\"error!\")"
   ]
  },
  {
   "cell_type": "markdown",
   "metadata": {},
   "source": [
    "# BKİ\n"
   ]
  },
  {
   "cell_type": "code",
   "execution_count": 7,
   "metadata": {},
   "outputs": [
    {
     "name": "stdout",
     "output_type": "stream",
     "text": [
      "Enter your height: 1.70\n",
      "Enter your weight: 85\n"
     ]
    }
   ],
   "source": [
    "height= float(input(\"Enter your height: \"))\n",
    "weight= float(input(\"Enter your weight: \" )) "
   ]
  },
  {
   "cell_type": "code",
   "execution_count": 8,
   "metadata": {},
   "outputs": [
    {
     "name": "stdout",
     "output_type": "stream",
     "text": [
      "Your size index: 29.411764705882355\n"
     ]
    }
   ],
   "source": [
    "sizeIndex=weight/(height**2)\n",
    "print(\"Your size index: {}\".format(sizeIndex))"
   ]
  },
  {
   "cell_type": "code",
   "execution_count": 9,
   "metadata": {},
   "outputs": [
    {
     "name": "stdout",
     "output_type": "stream",
     "text": [
      "Fat\n"
     ]
    }
   ],
   "source": [
    "if (sizeIndex<18.5):\n",
    "    print(\"skinny\")\n",
    "elif (sizeIndex>=18.5) & (sizeIndex<25):\n",
    "    print(\"regular\")\n",
    "elif (sizeIndex>=25) & (sizeIndex<=30):\n",
    "    print(\"Fat\")\n",
    "elif (sizeIndex>30):\n",
    "    print(\"obese\")"
   ]
  },
  {
   "cell_type": "markdown",
   "metadata": {},
   "source": [
    "# Which number is bigger ?"
   ]
  },
  {
   "cell_type": "code",
   "execution_count": 33,
   "metadata": {},
   "outputs": [
    {
     "name": "stdout",
     "output_type": "stream",
     "text": [
      "numb1: 15\n",
      "numb2: 5\n",
      "numb3: 2\n"
     ]
    }
   ],
   "source": [
    "numb1=float(input(\"numb1: \"))\n",
    "numb2=float(input(\"numb2: \"))\n",
    "numb3=float(input(\"numb3: \"))"
   ]
  },
  {
   "cell_type": "code",
   "execution_count": 34,
   "metadata": {},
   "outputs": [
    {
     "name": "stdout",
     "output_type": "stream",
     "text": [
      "15.0\n"
     ]
    }
   ],
   "source": [
    "if(numb1 > numb2) and (numb1 > numb3):\n",
    "    print(numb1)\n",
    "    \n",
    "elif (numb2>numb1) and (numb2>numb3):\n",
    "    print(numb2)\n",
    "elif(numb3 > numb2) and (numb3 > numb1):\n",
    "    print(numb3)\n",
    "    \n",
    "else : print(\"number is equal\")"
   ]
  },
  {
   "cell_type": "markdown",
   "metadata": {},
   "source": [
    "# Geometry"
   ]
  },
  {
   "cell_type": "code",
   "execution_count": 66,
   "metadata": {},
   "outputs": [
    {
     "name": "stdout",
     "output_type": "stream",
     "text": [
      "triangle or rectangle: triangle\n",
      "corner 1: 2\n",
      "corner 2: 3\n",
      "corner 3: 5\n"
     ]
    }
   ],
   "source": [
    "a=input(\"triangle or rectangle: \")\n",
    "if(a==\"triangle\"):\n",
    "    corner1=int(input(\"corner 1: \"))\n",
    "    corner2=int(input(\"corner 2: \"))\n",
    "    corner3=int(input(\"corner 3: \"))\n",
    "    \n",
    "elif(a==\"rectangle\"):\n",
    "    corner1=input(\"corner 1: \")\n",
    "    corner2=input(\"corner 2: \")\n",
    "    corner3=input(\"corner 3: \")\n",
    "    corner4=input(\"corner 4: \")\n",
    "    \n",
    "else:print(\"error!\")"
   ]
  },
  {
   "cell_type": "code",
   "execution_count": 67,
   "metadata": {},
   "outputs": [
    {
     "name": "stdout",
     "output_type": "stream",
     "text": [
      "False\n"
     ]
    }
   ],
   "source": [
    "answer=(abs(corner1-corner2)<corner3<(corner1+corner2))and(abs(corner1-corner3)<corner2<(corner1+corner3))and(abs(corner2-corner3)<corner1<(corner3+corner2))\n",
    "print(answer)"
   ]
  },
  {
   "cell_type": "code",
   "execution_count": 69,
   "metadata": {},
   "outputs": [
    {
     "name": "stdout",
     "output_type": "stream",
     "text": [
      "not triangle\n"
     ]
    }
   ],
   "source": [
    "if(answer):\n",
    "    if(corner1==corner2)or(corner2==corner3)or(corner1==corner3):\n",
    "        print(\"equilateral triangle\")\n",
    "    else: print(\"regular triangle\")\n",
    "else: print(\"not triangle\")"
   ]
  }
 ],
 "metadata": {
  "kernelspec": {
   "display_name": "Python 3",
   "language": "python",
   "name": "python3"
  },
  "language_info": {
   "codemirror_mode": {
    "name": "ipython",
    "version": 3
   },
   "file_extension": ".py",
   "mimetype": "text/x-python",
   "name": "python",
   "nbconvert_exporter": "python",
   "pygments_lexer": "ipython3",
   "version": "3.8.5"
  }
 },
 "nbformat": 4,
 "nbformat_minor": 4
}
