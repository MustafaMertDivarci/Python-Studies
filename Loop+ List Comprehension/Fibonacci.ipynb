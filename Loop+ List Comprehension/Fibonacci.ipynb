{
 "cells": [
  {
   "cell_type": "code",
   "execution_count": 41,
   "metadata": {},
   "outputs": [],
   "source": [
    "#1,1,2,3,5,8,13,21,34,55,89\n",
    "a=1\n",
    "b=1\n",
    "c=1\n"
   ]
  },
  {
   "cell_type": "code",
   "execution_count": 42,
   "metadata": {},
   "outputs": [
    {
     "name": "stdout",
     "output_type": "stream",
     "text": [
      "1 1 2\n",
      "1 2 3\n",
      "2 3 5\n",
      "3 5 8\n",
      "5 8 13\n",
      "8 13 21\n",
      "13 21 34\n",
      "21 34 55\n",
      "34 55 89\n",
      "55 89 144\n",
      "89 144 233\n",
      "144 233 377\n",
      "233 377 610\n",
      "377 610 987\n",
      "610 987 1597\n",
      "987 1597 2584\n",
      "1597 2584 4181\n",
      "2584 4181 6765\n",
      "4181 6765 10946\n",
      "6765 10946 17711\n"
     ]
    }
   ],
   "source": [
    "for i in range(0,20):\n",
    "    print(a,b,a+b)\n",
    "    c=b\n",
    "    b=a+b\n",
    "    a=c\n",
    "    \n",
    "    \n",
    "    "
   ]
  },
  {
   "cell_type": "code",
   "execution_count": 46,
   "metadata": {},
   "outputs": [],
   "source": [
    "#başka bir yol\n",
    "a=1\n",
    "b=1\n",
    "fibonacci=[a,b]"
   ]
  },
  {
   "cell_type": "code",
   "execution_count": 47,
   "metadata": {},
   "outputs": [
    {
     "name": "stdout",
     "output_type": "stream",
     "text": [
      "[1, 1, 2, 3, 5, 8, 13, 21, 34, 55, 89, 144, 233, 377, 610, 987, 1597, 2584, 4181, 6765, 10946, 17711]\n"
     ]
    }
   ],
   "source": [
    "for i in range(20):\n",
    "    a,b=b,a+b\n",
    "    fibonacci.append(b)\n",
    "print(fibonacci)"
   ]
  },
  {
   "cell_type": "code",
   "execution_count": null,
   "metadata": {},
   "outputs": [],
   "source": []
  },
  {
   "cell_type": "code",
   "execution_count": null,
   "metadata": {},
   "outputs": [],
   "source": []
  }
 ],
 "metadata": {
  "kernelspec": {
   "display_name": "Python 3",
   "language": "python",
   "name": "python3"
  },
  "language_info": {
   "codemirror_mode": {
    "name": "ipython",
    "version": 3
   },
   "file_extension": ".py",
   "mimetype": "text/x-python",
   "name": "python",
   "nbconvert_exporter": "python",
   "pygments_lexer": "ipython3",
   "version": "3.8.5"
  }
 },
 "nbformat": 4,
 "nbformat_minor": 4
}
