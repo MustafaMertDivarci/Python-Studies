{
 "cells": [
  {
   "cell_type": "markdown",
   "metadata": {},
   "source": [
    "# Log in system"
   ]
  },
  {
   "cell_type": "code",
   "execution_count": 4,
   "metadata": {},
   "outputs": [
    {
     "name": "stdout",
     "output_type": "stream",
     "text": [
      "\n",
      "*************************\n",
      "kullanıcı Girişi Programı\n",
      "*************************\n",
      "\n"
     ]
    }
   ],
   "source": [
    "print(\"\"\"\n",
    "*************************\n",
    "kullanıcı Girişi Programı\n",
    "*************************\n",
    "\"\"\")"
   ]
  },
  {
   "cell_type": "code",
   "execution_count": 5,
   "metadata": {},
   "outputs": [],
   "source": [
    "sysNickName=\"mertdiv\"\n",
    "sysPassword=\"456852\"\n",
    "trynumber=3"
   ]
  },
  {
   "cell_type": "code",
   "execution_count": 6,
   "metadata": {},
   "outputs": [
    {
     "name": "stdout",
     "output_type": "stream",
     "text": [
      "Enter your Nickname: mertdiv\n",
      "Enter your password: 456852\n",
      "Welcome in the system\n"
     ]
    }
   ],
   "source": [
    "while True:\n",
    "    nickName=input(\"Enter your Nickname: \")\n",
    "    password=input(\"Enter your password: \")\n",
    "    if((sysNickName==nickName) and (sysPassword==password)):\n",
    "       print(\"Welcome in the system\")\n",
    "       break\n",
    "    else:\n",
    "       print(\"Wrong nick or password\")\n",
    "       trynumber-=1\n",
    "       if(trynumber==0):\n",
    "          print(\"Game over\")\n",
    "          break\n",
    "            \n",
    "    \n",
    "    "
   ]
  }
 ],
 "metadata": {
  "kernelspec": {
   "display_name": "Python 3",
   "language": "python",
   "name": "python3"
  },
  "language_info": {
   "codemirror_mode": {
    "name": "ipython",
    "version": 3
   },
   "file_extension": ".py",
   "mimetype": "text/x-python",
   "name": "python",
   "nbconvert_exporter": "python",
   "pygments_lexer": "ipython3",
   "version": "3.8.5"
  }
 },
 "nbformat": 4,
 "nbformat_minor": 4
}
