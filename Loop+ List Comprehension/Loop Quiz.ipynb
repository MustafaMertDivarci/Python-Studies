{
 "cells": [
  {
   "cell_type": "markdown",
   "metadata": {},
   "source": [
    "# 1- Perfect Numbers"
   ]
  },
  {
   "cell_type": "code",
   "execution_count": 3,
   "metadata": {},
   "outputs": [
    {
     "name": "stdout",
     "output_type": "stream",
     "text": [
      "Enter a number6\n"
     ]
    }
   ],
   "source": [
    "numb=int(input(\"Enter a number\"))\n",
    "i=1\n",
    "b=0"
   ]
  },
  {
   "cell_type": "code",
   "execution_count": 4,
   "metadata": {},
   "outputs": [
    {
     "name": "stdout",
     "output_type": "stream",
     "text": [
      "1\n",
      "2\n",
      "3\n",
      "number is a perfect:  6\n"
     ]
    }
   ],
   "source": [
    "while i<numb:\n",
    "    if(numb%i==0):\n",
    "        print(i)\n",
    "        b+=i\n",
    "    elif(b==numb):\n",
    "        print(\"number is a perfect: \",numb)\n",
    "        break\n",
    "    \n",
    "    i+=1\n",
    "if(numb!=b):\n",
    "    print(\"Not perfect!: \",numb)\n",
    "    "
   ]
  },
  {
   "cell_type": "markdown",
   "metadata": {},
   "source": [
    "# 2-Armstrong"
   ]
  },
  {
   "cell_type": "code",
   "execution_count": null,
   "metadata": {},
   "outputs": [],
   "source": [
    "numb=int(input(\"Enter a four digit number: \"))\n"
   ]
  },
  {
   "cell_type": "code",
   "execution_count": null,
   "metadata": {},
   "outputs": [],
   "source": [
    "a,b,c,d=0,0,0,0\n",
    "a=int(numb/1000)\n",
    "b=int((numb%1000)/100)\n",
    "c=int(((1543%100)/10))\n",
    "d=int((1543%100)%10)"
   ]
  },
  {
   "cell_type": "code",
   "execution_count": null,
   "metadata": {},
   "outputs": [],
   "source": [
    "armstrong=(a**4)+(b**4)+(c**4)+(d**4)"
   ]
  },
  {
   "cell_type": "code",
   "execution_count": null,
   "metadata": {},
   "outputs": [],
   "source": [
    "if(armstrong==numb):\n",
    "    print(\"Your number is armstrong: \",numb)\n",
    "else:\n",
    "    print(\"Not armstronh: \",numb)"
   ]
  },
  {
   "cell_type": "code",
   "execution_count": 1,
   "metadata": {},
   "outputs": [],
   "source": [
    "# With loops"
   ]
  },
  {
   "cell_type": "code",
   "execution_count": 7,
   "metadata": {},
   "outputs": [
    {
     "name": "stdout",
     "output_type": "stream",
     "text": [
      "numb: 1543\n"
     ]
    }
   ],
   "source": [
    "numb=input(\"numb: \")\n",
    "lenNumber=len(numb)\n",
    "numb=int(numb)\n",
    "digit=0\n",
    "sum=0\n",
    "tempNumber=numb"
   ]
  },
  {
   "cell_type": "code",
   "execution_count": 8,
   "metadata": {},
   "outputs": [
    {
     "name": "stdout",
     "output_type": "stream",
     "text": [
      "1543 Not a armstrong.\n"
     ]
    }
   ],
   "source": [
    "while (tempNumber>0):\n",
    "    digit = tempNumber %10\n",
    "    sum+=digit**lenNumber\n",
    "    tempNumber//=10\n",
    "if(sum==numb):\n",
    "    print(numb,\"İs a armstrong.\")\n",
    "else:print(numb,\"Not a armstrong.\")"
   ]
  },
  {
   "cell_type": "markdown",
   "metadata": {},
   "source": [
    "# The Multiplication Table"
   ]
  },
  {
   "cell_type": "code",
   "execution_count": null,
   "metadata": {},
   "outputs": [],
   "source": [
    "liste=list(range(1,11))\n",
    "print(liste)\n",
    "liste2=list()"
   ]
  },
  {
   "cell_type": "code",
   "execution_count": null,
   "metadata": {},
   "outputs": [],
   "source": [
    "for i in liste:\n",
    "    for j in liste:\n",
    "        liste2.append(i*j)\n",
    "        \n",
    "    print(liste2)\n",
    "    liste2=list()\n",
    "        "
   ]
  },
  {
   "cell_type": "markdown",
   "metadata": {},
   "source": [
    "# 4- Question"
   ]
  },
  {
   "cell_type": "code",
   "execution_count": null,
   "metadata": {},
   "outputs": [],
   "source": [
    "sum=0"
   ]
  },
  {
   "cell_type": "code",
   "execution_count": null,
   "metadata": {},
   "outputs": [],
   "source": [
    "print(\"İf you want to exit press 'q'\")\n",
    "while True:\n",
    "    str=input(\"Enter a number: \")\n",
    "    if(str==\"q\"):\n",
    "        print(\"Process is ending...\")\n",
    "        break\n",
    "    else:\n",
    "        numb=int(str)\n",
    "        sum+=numb\n",
    "print(\"Sum: \",sum)"
   ]
  },
  {
   "cell_type": "markdown",
   "metadata": {},
   "source": [
    "# 5-Question"
   ]
  },
  {
   "cell_type": "code",
   "execution_count": null,
   "metadata": {},
   "outputs": [],
   "source": [
    "for i in range(1,101):\n",
    "    if(i%3==0):\n",
    "        print(i)\n",
    "    else:continue"
   ]
  },
  {
   "cell_type": "markdown",
   "metadata": {},
   "source": [
    "# 6-Question"
   ]
  },
  {
   "cell_type": "code",
   "execution_count": null,
   "metadata": {},
   "outputs": [],
   "source": [
    "liste1=list(range(1,101))\n",
    "liste2=list()\n",
    "liste2=[i for i in liste1 if (i%2==0)]"
   ]
  },
  {
   "cell_type": "code",
   "execution_count": null,
   "metadata": {},
   "outputs": [],
   "source": [
    "print(liste2)"
   ]
  }
 ],
 "metadata": {
  "kernelspec": {
   "display_name": "Python 3",
   "language": "python",
   "name": "python3"
  },
  "language_info": {
   "codemirror_mode": {
    "name": "ipython",
    "version": 3
   },
   "file_extension": ".py",
   "mimetype": "text/x-python",
   "name": "python",
   "nbconvert_exporter": "python",
   "pygments_lexer": "ipython3",
   "version": "3.8.5"
  }
 },
 "nbformat": 4,
 "nbformat_minor": 4
}
