{
 "cells": [
  {
   "cell_type": "code",
   "execution_count": 1,
   "metadata": {},
   "outputs": [
    {
     "name": "stdout",
     "output_type": "stream",
     "text": [
      "\n",
      "**********************\n",
      "Welcome to ATM Machine\n",
      "**********************\n",
      "\n",
      "\n"
     ]
    }
   ],
   "source": [
    "print(\"\"\"\n",
    "**********************\n",
    "Welcome to ATM Machine\n",
    "**********************\n",
    "\n",
    "\"\"\")"
   ]
  },
  {
   "cell_type": "code",
   "execution_count": null,
   "metadata": {},
   "outputs": [],
   "source": [
    "cashValue=1000\n",
    "\n",
    "op=input(\"Enter the operation you want:\")"
   ]
  },
  {
   "cell_type": "code",
   "execution_count": null,
   "metadata": {},
   "outputs": [
    {
     "name": "stdout",
     "output_type": "stream",
     "text": [
      "enter the price: 10\n",
      "Your cash price:  1210\n"
     ]
    }
   ],
   "source": [
    "while True:\n",
    "    if (op==\"1\"):\n",
    "        print(cashValue)\n",
    "        \n",
    "    elif(op==\"2\"):\n",
    "        sum=int(input(\"enter the price: \"))\n",
    "        cashValue+=sum\n",
    "        print(\"Your cash price: \",cashValue)\n",
    "        \n",
    "    elif(op==\"3\"):\n",
    "        min=input(\"Enter the price: \")\n",
    "        cashValue-=min\n",
    "    else:\n",
    "        print(\"Error!\")"
   ]
  }
 ],
 "metadata": {
  "kernelspec": {
   "display_name": "Python 3",
   "language": "python",
   "name": "python3"
  },
  "language_info": {
   "codemirror_mode": {
    "name": "ipython",
    "version": 3
   },
   "file_extension": ".py",
   "mimetype": "text/x-python",
   "name": "python",
   "nbconvert_exporter": "python",
   "pygments_lexer": "ipython3",
   "version": "3.8.5"
  }
 },
 "nbformat": 4,
 "nbformat_minor": 4
}
