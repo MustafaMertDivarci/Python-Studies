{
 "cells": [
  {
   "cell_type": "code",
   "execution_count": 1,
   "metadata": {},
   "outputs": [],
   "source": [
    "import random\n",
    "import time"
   ]
  },
  {
   "cell_type": "code",
   "execution_count": 18,
   "metadata": {},
   "outputs": [],
   "source": [
    "class Controller():\n",
    "    def init(self,tvStatus=\"Off\",tvVolume=0,channelList=[\"Trt\"],channel=\"Trt\"):\n",
    "        self.tvStatus=tvStatus\n",
    "        self.tvVolume=tvVolume\n",
    "        self.channelList=channelList\n",
    "        self.channel=channel\n",
    "    def onTv(self):\n",
    "        if(self.tvStatus==\"Open\"):\n",
    "            print(\"Tv is alredy open\")\n",
    "           # break\n",
    "        else:\n",
    "            print(\"Tv is Opening\") \n",
    "            self.tvStatus=\"On\"\n",
    "    def offTv(self):\n",
    "        if(self.tvStatus==\"Off\"):\n",
    "            print(\"Tv is already off\")\n",
    "        else:\n",
    "            print(\"Tv is turn off\")\n",
    "            self.tvStatus=\"Off\"\n",
    "            \n",
    "    def tvVolume(self):\n",
    "        while True:\n",
    "            choise= input(\"Press the button to mute: \"<\"\\nPress the button to increase volume \">\"\\nFor exit: exit \")\n",
    "            if(choise==\"<\"):\n",
    "                if(self.tvVolume!=0):\n",
    "                    self.tvVolume-=1\n",
    "                    print(\"Sound: \",self.tvVolume)\n",
    "            elif (choise==\">\"):\n",
    "                if(self.tvVolume!=31):\n",
    "                    self.tvVolume+=1\n",
    "                    print(\"Volume: \",self.tvVolume)\n",
    "                else:\n",
    "                    print(\"Voice is updated: \",self.tvVolume)\n",
    "                    break\n",
    "    def channelList(self,channelName):\n",
    "        print(\"Channels is updating\")\n",
    "        time.sleep(1)\n",
    "        self.channelList.append(channelName)\n",
    "        print(\"Chanel is update...\")\n",
    "    def randomChannel(self):\n",
    "        random=random.randint(0,len(self.channelList)-1)\n",
    "        \n",
    "        \n",
    "        self.channel=self.channelList[random]\n",
    "        print(\"Channel is:  \",self.channel)\n",
    "    def __len__(self):\n",
    "        return len(self.channelList)\n",
    "    def __str__(self):\n",
    "        return \"Tv Status: {}\\nTv Volume: {}\\nChannel Lists: {}\\nChannel: {} \".format(self.tvStatus,self.tvVolume,self.channelList,self.channel)"
   ]
  },
  {
   "cell_type": "code",
   "execution_count": 22,
   "metadata": {},
   "outputs": [
    {
     "name": "stdout",
     "output_type": "stream",
     "text": [
      "Tv Application\n",
      "\n",
      "1.Open Tv\n",
      "2.CLose Tv\n",
      "3.Volume\n",
      "4.Add channel\n",
      "5.Channel list info\n",
      "6.Random channel\n",
      "7.Tv infos\n",
      "\n",
      "if you want to exit press \"q\"\n",
      "\n",
      "\n",
      "            \n"
     ]
    }
   ],
   "source": [
    "print(\"\"\"Tv Application\n",
    "\n",
    "1.Open Tv\n",
    "2.CLose Tv\n",
    "3.Volume\n",
    "4.Add channel\n",
    "5.Channel list info\n",
    "6.Random channel\n",
    "7.Tv infos\n",
    "\n",
    "if you want to exit press \"q\"\n",
    "\n",
    "\n",
    "            \"\"\")"
   ]
  },
  {
   "cell_type": "code",
   "execution_count": 24,
   "metadata": {},
   "outputs": [],
   "source": [
    "controller=Controller()"
   ]
  },
  {
   "cell_type": "code",
   "execution_count": 26,
   "metadata": {},
   "outputs": [
    {
     "name": "stdout",
     "output_type": "stream",
     "text": [
      "Choise the process1\n"
     ]
    },
    {
     "ename": "AttributeError",
     "evalue": "'Controller' object has no attribute 'tvStatus'",
     "output_type": "error",
     "traceback": [
      "\u001b[1;31m---------------------------------------------------------------------------\u001b[0m",
      "\u001b[1;31mAttributeError\u001b[0m                            Traceback (most recent call last)",
      "\u001b[1;32m<ipython-input-26-80d0ed425406>\u001b[0m in \u001b[0;36m<module>\u001b[1;34m\u001b[0m\n\u001b[0;32m      4\u001b[0m         \u001b[1;32mbreak\u001b[0m\u001b[1;33m\u001b[0m\u001b[1;33m\u001b[0m\u001b[0m\n\u001b[0;32m      5\u001b[0m     \u001b[1;32melif\u001b[0m\u001b[1;33m(\u001b[0m\u001b[0mprocess\u001b[0m\u001b[1;33m==\u001b[0m\u001b[1;34m\"1\"\u001b[0m\u001b[1;33m)\u001b[0m\u001b[1;33m:\u001b[0m\u001b[1;33m\u001b[0m\u001b[1;33m\u001b[0m\u001b[0m\n\u001b[1;32m----> 6\u001b[1;33m         \u001b[0mcontroller\u001b[0m\u001b[1;33m.\u001b[0m\u001b[0monTv\u001b[0m\u001b[1;33m(\u001b[0m\u001b[1;33m)\u001b[0m\u001b[1;33m\u001b[0m\u001b[1;33m\u001b[0m\u001b[0m\n\u001b[0m",
      "\u001b[1;32m<ipython-input-18-15e1f94ba290>\u001b[0m in \u001b[0;36monTv\u001b[1;34m(self)\u001b[0m\n\u001b[0;32m      6\u001b[0m         \u001b[0mself\u001b[0m\u001b[1;33m.\u001b[0m\u001b[0mchannel\u001b[0m\u001b[1;33m=\u001b[0m\u001b[0mchannel\u001b[0m\u001b[1;33m\u001b[0m\u001b[1;33m\u001b[0m\u001b[0m\n\u001b[0;32m      7\u001b[0m     \u001b[1;32mdef\u001b[0m \u001b[0monTv\u001b[0m\u001b[1;33m(\u001b[0m\u001b[0mself\u001b[0m\u001b[1;33m)\u001b[0m\u001b[1;33m:\u001b[0m\u001b[1;33m\u001b[0m\u001b[1;33m\u001b[0m\u001b[0m\n\u001b[1;32m----> 8\u001b[1;33m         \u001b[1;32mif\u001b[0m\u001b[1;33m(\u001b[0m\u001b[0mself\u001b[0m\u001b[1;33m.\u001b[0m\u001b[0mtvStatus\u001b[0m\u001b[1;33m==\u001b[0m\u001b[1;34m\"Open\"\u001b[0m\u001b[1;33m)\u001b[0m\u001b[1;33m:\u001b[0m\u001b[1;33m\u001b[0m\u001b[1;33m\u001b[0m\u001b[0m\n\u001b[0m\u001b[0;32m      9\u001b[0m             \u001b[0mprint\u001b[0m\u001b[1;33m(\u001b[0m\u001b[1;34m\"Tv is alredy open\"\u001b[0m\u001b[1;33m)\u001b[0m\u001b[1;33m\u001b[0m\u001b[1;33m\u001b[0m\u001b[0m\n\u001b[0;32m     10\u001b[0m            \u001b[1;31m# break\u001b[0m\u001b[1;33m\u001b[0m\u001b[1;33m\u001b[0m\u001b[1;33m\u001b[0m\u001b[0m\n",
      "\u001b[1;31mAttributeError\u001b[0m: 'Controller' object has no attribute 'tvStatus'"
     ]
    }
   ],
   "source": [
    "while True:\n",
    "    process=input(\"Choise the process\")\n",
    "    if(process==\"q\"):\n",
    "        break\n",
    "    elif(process==\"1\"):\n",
    "        controller.onTv()"
   ]
  },
  {
   "cell_type": "code",
   "execution_count": null,
   "metadata": {},
   "outputs": [],
   "source": []
  },
  {
   "cell_type": "code",
   "execution_count": null,
   "metadata": {},
   "outputs": [],
   "source": []
  }
 ],
 "metadata": {
  "kernelspec": {
   "display_name": "Python 3",
   "language": "python",
   "name": "python3"
  },
  "language_info": {
   "codemirror_mode": {
    "name": "ipython",
    "version": 3
   },
   "file_extension": ".py",
   "mimetype": "text/x-python",
   "name": "python",
   "nbconvert_exporter": "python",
   "pygments_lexer": "ipython3",
   "version": "3.8.5"
  }
 },
 "nbformat": 4,
 "nbformat_minor": 4
}
