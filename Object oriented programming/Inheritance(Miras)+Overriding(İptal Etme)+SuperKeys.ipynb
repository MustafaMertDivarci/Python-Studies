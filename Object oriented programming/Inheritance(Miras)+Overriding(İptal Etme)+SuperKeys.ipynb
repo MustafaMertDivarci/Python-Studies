{
 "cells": [
  {
   "cell_type": "markdown",
   "metadata": {},
   "source": [
    "# Inheritance"
   ]
  },
  {
   "cell_type": "markdown",
   "metadata": {},
   "source": [
    "#### Inheritance bir class'ın başka bir class'dan özelliklerini ( attributes) ve methodlarını (methods) miras almasıdır."
   ]
  },
  {
   "cell_type": "code",
   "execution_count": 14,
   "metadata": {},
   "outputs": [],
   "source": [
    "class Employee():\n",
    "    def __init__(self,name,salary,department):\n",
    "        print(\"Employee class init function\")\n",
    "        self.name=name\n",
    "        self.salary=salary\n",
    "        self.department=department\n",
    "    def showInfo(self):\n",
    "        print(\"Employee class infos...\")\n",
    "        \n",
    "        print(\"Name: {} \\nSalary: {} \\nDepartment: {}\".format(self.name,self.salary,self.department))\n",
    "    def switchDepartman(self,newDepartment):\n",
    "        self.department=newDepartment"
   ]
  },
  {
   "cell_type": "code",
   "execution_count": 15,
   "metadata": {},
   "outputs": [],
   "source": [
    "class Manager(Employee):\n",
    "    pass"
   ]
  },
  {
   "cell_type": "code",
   "execution_count": 17,
   "metadata": {},
   "outputs": [
    {
     "name": "stdout",
     "output_type": "stream",
     "text": [
      "Employee class init function\n"
     ]
    }
   ],
   "source": [
    "manager=Manager(\"Mustafa Mert Divarcı\",3000,\"Developer\")"
   ]
  },
  {
   "cell_type": "code",
   "execution_count": 19,
   "metadata": {},
   "outputs": [
    {
     "name": "stdout",
     "output_type": "stream",
     "text": [
      "Employee class infos...\n",
      "Name: Mustafa Mert Divarcı \n",
      "Salary: 3000 \n",
      "Department: Developer\n"
     ]
    }
   ],
   "source": [
    "manager.showInfo()"
   ]
  },
  {
   "cell_type": "code",
   "execution_count": 20,
   "metadata": {},
   "outputs": [],
   "source": [
    "manager.switchDepartman(\"Android\")"
   ]
  },
  {
   "cell_type": "code",
   "execution_count": 21,
   "metadata": {},
   "outputs": [
    {
     "name": "stdout",
     "output_type": "stream",
     "text": [
      "Employee class infos...\n",
      "Name: Mustafa Mert Divarcı \n",
      "Salary: 3000 \n",
      "Department: Android\n"
     ]
    }
   ],
   "source": [
    "manager.showInfo()"
   ]
  },
  {
   "cell_type": "code",
   "execution_count": 24,
   "metadata": {},
   "outputs": [],
   "source": [
    "class Manager(Employee):\n",
    "    #pass\n",
    "    def increaseSalary(self,raiseSalary):\n",
    "        print(\"Raise of salary...\")\n",
    "        self.salary+=raiseSalary"
   ]
  },
  {
   "cell_type": "code",
   "execution_count": 26,
   "metadata": {},
   "outputs": [
    {
     "name": "stdout",
     "output_type": "stream",
     "text": [
      "Employee class init function\n"
     ]
    }
   ],
   "source": [
    "manager=Manager(\"Mustafa Mert Divarcı\",3000,\"Developer\")"
   ]
  },
  {
   "cell_type": "code",
   "execution_count": 27,
   "metadata": {},
   "outputs": [
    {
     "name": "stdout",
     "output_type": "stream",
     "text": [
      "Raise of salary...\n"
     ]
    }
   ],
   "source": [
    "manager.increaseSalary(500)"
   ]
  },
  {
   "cell_type": "code",
   "execution_count": 29,
   "metadata": {},
   "outputs": [
    {
     "data": {
      "text/plain": [
       "3500"
      ]
     },
     "execution_count": 29,
     "metadata": {},
     "output_type": "execute_result"
    }
   ],
   "source": [
    "manager.salary"
   ]
  },
  {
   "cell_type": "markdown",
   "metadata": {},
   "source": [
    "## Overriding (iptal etme)"
   ]
  },
  {
   "cell_type": "raw",
   "metadata": {},
   "source": [
    "class Employee():   \n",
    "    def __init__(self,name,salary,department):\n",
    "    # Burada init fonksiyonumu tanımlamıştık ve 3 tane değer almasını istemiştik (name,salary,department) "
   ]
  },
  {
   "cell_type": "raw",
   "metadata": {},
   "source": [
    "class Manager(Employee):\n",
    "    # Manager class'ı Employee class'ını miras (inheritance) alıyor.\n",
    "    # Ve ben bu Manager class'ında yeni bir init fonksiyonu oluşturursam önceki init fonksiyonum iptal edilir.(OVERRİDİNG)\n",
    "     def __init__(self,name,lastName,salary,department,age):"
   ]
  },
  {
   "cell_type": "code",
   "execution_count": 1,
   "metadata": {},
   "outputs": [],
   "source": [
    "class Employee():\n",
    "    def __init__(self,name,salary,department): # Manager class' ı miras aldığı Employee(init) override etti\n",
    "        print(\"Employee class init function\")\n",
    "        self.name=name\n",
    "        self.salary=salary\n",
    "        self.department=department\n",
    "    def showInfo(self):\n",
    "        print(\"Employee class infos...\")\n",
    "        \n",
    "        print(\"Name: {} \\nSalary: {} \\nDepartment: {}\".format(self.name,self.salary,self.department))\n",
    "    def switchDepartman(self,newDepartment):\n",
    "        self.department=newDepartment"
   ]
  },
  {
   "cell_type": "code",
   "execution_count": 17,
   "metadata": {},
   "outputs": [],
   "source": [
    "class Manager(Employee):\n",
    "    \n",
    "    def __init__(self,name,salary,department,employeeCount): # bu init fonksiyonu çalışıyor artık\n",
    "        self.name=name\n",
    "        self.salary=salary\n",
    "        self.department=department\n",
    "        self.employeeCount=employeeCount\n",
    "       \n",
    "    def increaseSalary(self,raiseSalary):\n",
    "        self.salary+=raiseSalary\n",
    "        \n",
    "    def showInfo(self):\n",
    "        print(\"Manager class infos...\")\n",
    "        \n",
    "        print(\"Name: {} \\nSalary: {} \\nDepartment: {} \\nemployeeCount: {}\".format(self.name,self.salary,self.department,self.employeeCount))\n",
    "        "
   ]
  },
  {
   "cell_type": "code",
   "execution_count": 18,
   "metadata": {},
   "outputs": [],
   "source": [
    "manager=Manager(\"Mustafa Mert Divarcı\",3000,\"Bilişim\",10)"
   ]
  },
  {
   "cell_type": "code",
   "execution_count": 19,
   "metadata": {},
   "outputs": [
    {
     "data": {
      "text/plain": [
       "10"
      ]
     },
     "execution_count": 19,
     "metadata": {},
     "output_type": "execute_result"
    }
   ],
   "source": [
    "manager.employeeCount"
   ]
  },
  {
   "cell_type": "code",
   "execution_count": 20,
   "metadata": {},
   "outputs": [
    {
     "name": "stdout",
     "output_type": "stream",
     "text": [
      "Manager class infos...\n",
      "Name: Mustafa Mert Divarcı \n",
      "Salary: 3000 \n",
      "Department: Bilişim \n",
      "employeeCount: 10\n"
     ]
    }
   ],
   "source": [
    "manager.showInfo()  # burada Employee' nin showInfo su override edildi \n",
    "                    # MAnager class'ının showInfo su çalıştırıldı"
   ]
  },
  {
   "cell_type": "code",
   "execution_count": 21,
   "metadata": {},
   "outputs": [
    {
     "name": "stdout",
     "output_type": "stream",
     "text": [
      "Employee class init function\n"
     ]
    }
   ],
   "source": [
    "employee=Employee(\"Elif Divarcı\",2500,\"Veteriner\") \n",
    "# Employee Class'ı bozulmadı sadece Manager class'ını kullanırken override ediyoruz. \n",
    "                                                    "
   ]
  },
  {
   "cell_type": "code",
   "execution_count": 23,
   "metadata": {},
   "outputs": [
    {
     "name": "stdout",
     "output_type": "stream",
     "text": [
      "Employee class infos...\n",
      "Name: Elif Divarcı \n",
      "Salary: 2500 \n",
      "Department: Veteriner\n"
     ]
    }
   ],
   "source": [
    "employee.showInfo()"
   ]
  },
  {
   "cell_type": "markdown",
   "metadata": {},
   "source": [
    "## Super Keys"
   ]
  },
  {
   "cell_type": "raw",
   "metadata": {},
   "source": [
    "Miras aldığımız sınıfın metodlarını alt sınıflardan kullanmamızı sağlar\n",
    "Aşağıda Employee class'ının __init__ fonksiyonunu Manager kısmında çağırdık"
   ]
  },
  {
   "cell_type": "code",
   "execution_count": 31,
   "metadata": {},
   "outputs": [],
   "source": [
    "class Employee():\n",
    "    def __init__(self,name,salary,department): # Manager class' ı miras aldığı Employee(init) override etti\n",
    "        print(\"Employee class init function\")\n",
    "        self.name=name\n",
    "        self.salary=salary\n",
    "        self.department=department\n",
    "    def showInfo(self):\n",
    "        print(\"Employee class infos...\")\n",
    "        \n",
    "        print(\"Name: {} \\nSalary: {} \\nDepartment: {}\".format(self.name,self.salary,self.department))\n",
    "    def switchDepartman(self,newDepartment):\n",
    "        self.department=newDepartment"
   ]
  },
  {
   "cell_type": "code",
   "execution_count": 32,
   "metadata": {},
   "outputs": [],
   "source": [
    "class Manager(Employee):\n",
    "    \n",
    "    def __init__(self,name,salary,department,employeeCount): # bu init fonksiyonu çalışıyor artık\n",
    "        #self.name=name             *****\n",
    "        #self.salary=salary           ********Bunları yazmak yerine yukarıdaki init fonksiyonundan çağırıcaz*********\n",
    "        #self.department=department    *****************\n",
    "        \n",
    "        \n",
    "        super().__init__(name,salary,department)\n",
    "        \n",
    "        print(\"Manager class init function\")\n",
    "        self.employeeCount=employeeCount  # yeni özelliği tanımladık\n",
    "       \n",
    "    def increaseSalary(self,raiseSalary):\n",
    "        self.salary+=raiseSalary\n",
    "        \n",
    "    def showInfo(self):\n",
    "        print(\"Manager class infos...\")\n",
    "        \n",
    "        print(\"Name: {} \\nSalary: {} \\nDepartment: {} \\nemployeeCount: {}\".format(self.name,self.salary,self.department,self.employeeCount))\n",
    "        "
   ]
  },
  {
   "cell_type": "code",
   "execution_count": 33,
   "metadata": {},
   "outputs": [
    {
     "name": "stdout",
     "output_type": "stream",
     "text": [
      "Employee class init function\n",
      "Manager class init function\n"
     ]
    }
   ],
   "source": [
    "manager=Manager(\"mert\",3000,\"Developer\",15)"
   ]
  },
  {
   "cell_type": "code",
   "execution_count": 29,
   "metadata": {},
   "outputs": [
    {
     "name": "stdout",
     "output_type": "stream",
     "text": [
      "Manager class infos...\n",
      "Name: mert \n",
      "Salary: 3000 \n",
      "Department: Developer \n",
      "employeeCount: 15\n"
     ]
    }
   ],
   "source": [
    "manager.showInfo()"
   ]
  },
  {
   "cell_type": "code",
   "execution_count": null,
   "metadata": {},
   "outputs": [],
   "source": []
  },
  {
   "cell_type": "code",
   "execution_count": null,
   "metadata": {},
   "outputs": [],
   "source": []
  },
  {
   "cell_type": "code",
   "execution_count": null,
   "metadata": {},
   "outputs": [],
   "source": []
  },
  {
   "cell_type": "code",
   "execution_count": null,
   "metadata": {},
   "outputs": [],
   "source": []
  }
 ],
 "metadata": {
  "kernelspec": {
   "display_name": "Python 3",
   "language": "python",
   "name": "python3"
  },
  "language_info": {
   "codemirror_mode": {
    "name": "ipython",
    "version": 3
   },
   "file_extension": ".py",
   "mimetype": "text/x-python",
   "name": "python",
   "nbconvert_exporter": "python",
   "pygments_lexer": "ipython3",
   "version": "3.8.5"
  }
 },
 "nbformat": 4,
 "nbformat_minor": 4
}
