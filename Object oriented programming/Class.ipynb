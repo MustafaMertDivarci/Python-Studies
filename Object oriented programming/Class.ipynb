{
 "cells": [
  {
   "cell_type": "code",
   "execution_count": null,
   "metadata": {},
   "outputs": [],
   "source": [
    "class Car():\n",
    "    model=\"Mercedes\"\n",
    "    color=\"White\"\n",
    "    hpPower= 110\n",
    "    roller=4\n",
    "    "
   ]
  },
  {
   "cell_type": "code",
   "execution_count": null,
   "metadata": {},
   "outputs": [],
   "source": [
    "car1= Car()\n"
   ]
  },
  {
   "cell_type": "code",
   "execution_count": null,
   "metadata": {},
   "outputs": [],
   "source": [
    "car1 # araba class ından bir veri oluşturduğumuzu gösteriyor (0x266c1a1c880 bu bellek alanında kayıtlı)"
   ]
  },
  {
   "cell_type": "code",
   "execution_count": null,
   "metadata": {},
   "outputs": [],
   "source": [
    "car2=Car()"
   ]
  },
  {
   "cell_type": "code",
   "execution_count": null,
   "metadata": {},
   "outputs": [],
   "source": [
    "car2"
   ]
  },
  {
   "cell_type": "code",
   "execution_count": null,
   "metadata": {},
   "outputs": [],
   "source": [
    "car1.model"
   ]
  },
  {
   "cell_type": "code",
   "execution_count": null,
   "metadata": {},
   "outputs": [],
   "source": [
    "car2.hpPower"
   ]
  },
  {
   "cell_type": "code",
   "execution_count": null,
   "metadata": {},
   "outputs": [],
   "source": [
    "dir(car1)"
   ]
  },
  {
   "cell_type": "code",
   "execution_count": null,
   "metadata": {},
   "outputs": [],
   "source": [
    "# bu dersi bir daha dinle mutlaka unutursun"
   ]
  },
  {
   "cell_type": "code",
   "execution_count": 1,
   "metadata": {},
   "outputs": [],
   "source": [
    "class Car():\n",
    "    def __init__(self,model,color,hpPower,roller):\n",
    "        print(\"init function called\")\n",
    "        self.model=model\n",
    "        self.color=color\n",
    "        self.hpPower=hpPower\n",
    "        self.roller=roller"
   ]
  },
  {
   "cell_type": "code",
   "execution_count": 2,
   "metadata": {},
   "outputs": [
    {
     "name": "stdout",
     "output_type": "stream",
     "text": [
      "init function called\n"
     ]
    }
   ],
   "source": [
    "car1=Car(\"Mercedes\",\"White\",110,4)   # init fonksiyonunun çalıştığını görmek için print koyduk\n",
    "# init fonksiyonu class çağırıldığında ilk çalışan fonksiyonlardan"
   ]
  },
  {
   "cell_type": "code",
   "execution_count": 5,
   "metadata": {},
   "outputs": [
    {
     "name": "stdout",
     "output_type": "stream",
     "text": [
      "init function called\n"
     ]
    }
   ],
   "source": [
    "car2=Car(\"Bmw\",\"Black\",90,4)"
   ]
  },
  {
   "cell_type": "code",
   "execution_count": 6,
   "metadata": {},
   "outputs": [
    {
     "data": {
      "text/plain": [
       "'Mercedes'"
      ]
     },
     "execution_count": 6,
     "metadata": {},
     "output_type": "execute_result"
    }
   ],
   "source": [
    "car1.model"
   ]
  },
  {
   "cell_type": "code",
   "execution_count": 7,
   "metadata": {},
   "outputs": [
    {
     "data": {
      "text/plain": [
       "'Bmw'"
      ]
     },
     "execution_count": 7,
     "metadata": {},
     "output_type": "execute_result"
    }
   ],
   "source": [
    "car2.model"
   ]
  },
  {
   "cell_type": "code",
   "execution_count": 20,
   "metadata": {},
   "outputs": [],
   "source": [
    "class Car():\n",
    "    def __init__(self,model=\"None\",color=\"None\",hpPower=\"None\",roller=\"None\"):  # varsayılan değer atadık\n",
    "       # eğer obje tanımlanırken eksik bilgi girilirse varsayılan değer döndürülür\n",
    "        print(\"init function called\")\n",
    "        self.model=model\n",
    "        self.color=color\n",
    "        self.hpPower=hpPower\n",
    "        self.roller=roller"
   ]
  },
  {
   "cell_type": "code",
   "execution_count": 21,
   "metadata": {},
   "outputs": [
    {
     "name": "stdout",
     "output_type": "stream",
     "text": [
      "init function called\n"
     ]
    }
   ],
   "source": [
    "car3=Car(color=\"red\")"
   ]
  },
  {
   "cell_type": "code",
   "execution_count": 22,
   "metadata": {},
   "outputs": [
    {
     "data": {
      "text/plain": [
       "'None'"
      ]
     },
     "execution_count": 22,
     "metadata": {},
     "output_type": "execute_result"
    }
   ],
   "source": [
    "car3.model\n"
   ]
  },
  {
   "cell_type": "code",
   "execution_count": 23,
   "metadata": {},
   "outputs": [
    {
     "data": {
      "text/plain": [
       "'None'"
      ]
     },
     "execution_count": 23,
     "metadata": {},
     "output_type": "execute_result"
    }
   ],
   "source": [
    "car3.roller"
   ]
  },
  {
   "cell_type": "code",
   "execution_count": 25,
   "metadata": {},
   "outputs": [
    {
     "data": {
      "text/plain": [
       "'red'"
      ]
     },
     "execution_count": 25,
     "metadata": {},
     "output_type": "execute_result"
    }
   ],
   "source": [
    "car3.color"
   ]
  },
  {
   "cell_type": "markdown",
   "metadata": {},
   "source": [
    "### Methods in class"
   ]
  },
  {
   "cell_type": "code",
   "execution_count": 48,
   "metadata": {},
   "outputs": [],
   "source": [
    "class Developer():\n",
    "    def __init__(self,name=\"None\",lastName=\"None\",number=\"None\",salary=\"None\",languages=\"None\"):\n",
    "        self.name=name\n",
    "        self.lastName=lastName\n",
    "        self.number=number\n",
    "        self.salary=salary\n",
    "        self.languages=languages\n",
    "    def showİnfo(self,): # bu methodu bir obje üzerinde uygulayacağımız için mutlaka self referansı gönderilmeli.\n",
    "        print(\"\"\"\n",
    "        Developer object features\n",
    "        \n",
    "        name: {}\n",
    "        \n",
    "        lastName: {}\n",
    "        \n",
    "        number: {}\n",
    "        \n",
    "        salary: {}\n",
    "        \n",
    "        languages: {}\n",
    "        \"\"\".format(self.name,self.lastName,self.number,self.salary,self.languages))\n",
    "    def increaseSalary(self,price):\n",
    "        print(\"İncrease salary...\")\n",
    "        self.salary+=price\n",
    "    def includeLanguage(self,language):\n",
    "        print(\"İnclude language...\")\n",
    "        self.languages.append(language)"
   ]
  },
  {
   "cell_type": "code",
   "execution_count": 55,
   "metadata": {},
   "outputs": [],
   "source": [
    "mert = Developer(\"Mustafa Mert\",\"Divarcı\",5071654249,0,[\"Python,C,C++,C#\"])\n",
    "# languages attributesini liste olarak tanımladık.\n",
    "# Başta liste olarak tanımlamadığım için includeLanguage function ı başta çalışmadı"
   ]
  },
  {
   "cell_type": "code",
   "execution_count": 56,
   "metadata": {},
   "outputs": [
    {
     "name": "stdout",
     "output_type": "stream",
     "text": [
      "\n",
      "        Developer object features\n",
      "        \n",
      "        name: Mustafa Mert\n",
      "        \n",
      "        lastName: Divarcı\n",
      "        \n",
      "        number: 5071654249\n",
      "        \n",
      "        salary: 0\n",
      "        \n",
      "        languages: ['Python,C,C++,C#']\n",
      "        \n"
     ]
    }
   ],
   "source": [
    "mert.showİnfo()"
   ]
  },
  {
   "cell_type": "code",
   "execution_count": 57,
   "metadata": {},
   "outputs": [
    {
     "name": "stdout",
     "output_type": "stream",
     "text": [
      "İncrease salary...\n"
     ]
    }
   ],
   "source": [
    "mert.increaseSalary(500)"
   ]
  },
  {
   "cell_type": "code",
   "execution_count": 58,
   "metadata": {},
   "outputs": [
    {
     "name": "stdout",
     "output_type": "stream",
     "text": [
      "\n",
      "        Developer object features\n",
      "        \n",
      "        name: Mustafa Mert\n",
      "        \n",
      "        lastName: Divarcı\n",
      "        \n",
      "        number: 5071654249\n",
      "        \n",
      "        salary: 500\n",
      "        \n",
      "        languages: ['Python,C,C++,C#']\n",
      "        \n"
     ]
    }
   ],
   "source": [
    "mert.showİnfo()"
   ]
  },
  {
   "cell_type": "code",
   "execution_count": 59,
   "metadata": {},
   "outputs": [
    {
     "name": "stdout",
     "output_type": "stream",
     "text": [
      "İnclude language...\n"
     ]
    }
   ],
   "source": [
    "mert.includeLanguage(\"Golang\")"
   ]
  },
  {
   "cell_type": "code",
   "execution_count": 61,
   "metadata": {},
   "outputs": [
    {
     "name": "stdout",
     "output_type": "stream",
     "text": [
      "\n",
      "        Developer object features\n",
      "        \n",
      "        name: Mustafa Mert\n",
      "        \n",
      "        lastName: Divarcı\n",
      "        \n",
      "        number: 5071654249\n",
      "        \n",
      "        salary: 500\n",
      "        \n",
      "        languages: ['Python,C,C++,C#', 'Golang']\n",
      "        \n"
     ]
    }
   ],
   "source": [
    "mert.showİnfo()"
   ]
  },
  {
   "cell_type": "code",
   "execution_count": null,
   "metadata": {},
   "outputs": [],
   "source": []
  },
  {
   "cell_type": "code",
   "execution_count": null,
   "metadata": {},
   "outputs": [],
   "source": []
  },
  {
   "cell_type": "code",
   "execution_count": null,
   "metadata": {},
   "outputs": [],
   "source": []
  },
  {
   "cell_type": "code",
   "execution_count": null,
   "metadata": {},
   "outputs": [],
   "source": []
  },
  {
   "cell_type": "code",
   "execution_count": null,
   "metadata": {},
   "outputs": [],
   "source": []
  },
  {
   "cell_type": "code",
   "execution_count": null,
   "metadata": {},
   "outputs": [],
   "source": []
  },
  {
   "cell_type": "code",
   "execution_count": null,
   "metadata": {},
   "outputs": [],
   "source": []
  },
  {
   "cell_type": "code",
   "execution_count": null,
   "metadata": {},
   "outputs": [],
   "source": []
  }
 ],
 "metadata": {
  "kernelspec": {
   "display_name": "Python 3",
   "language": "python",
   "name": "python3"
  },
  "language_info": {
   "codemirror_mode": {
    "name": "ipython",
    "version": 3
   },
   "file_extension": ".py",
   "mimetype": "text/x-python",
   "name": "python",
   "nbconvert_exporter": "python",
   "pygments_lexer": "ipython3",
   "version": "3.8.5"
  }
 },
 "nbformat": 4,
 "nbformat_minor": 4
}
