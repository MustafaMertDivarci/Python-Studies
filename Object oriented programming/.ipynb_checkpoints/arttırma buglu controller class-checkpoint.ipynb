{
 "cells": [
  {
   "cell_type": "code",
   "execution_count": 7,
   "metadata": {},
   "outputs": [],
   "source": [
    "import time\n",
    "#def swapChannel + bugu var onu düzelt !!!!"
   ]
  },
  {
   "cell_type": "code",
   "execution_count": 8,
   "metadata": {},
   "outputs": [],
   "source": [
    "class Controller():\n",
    "    def __init__(self,tvStatus=\"Off\",tvVolume=15,channelList=[\"Trt\",\"Fox\",\"Atv\",\"NtvSpor\"],channel=\"Trt\"):\n",
    "        print(\"tv application init function ready..\")\n",
    "        self.tvStatus=tvStatus\n",
    "        self.tvVolume=tvVolume\n",
    "        self.channelList=channelList\n",
    "        self.channel=channel\n",
    "        self.index=-1\n",
    "        \n",
    "    def iter(self):\n",
    "        return self\n",
    "        \n",
    "    def turnOnTv(self):\n",
    "        if(self.tvStatus==\"Off\"):\n",
    "            print(\"tv is opening...\")\n",
    "            \n",
    "            time.sleep(1)\n",
    "            self.tvStatus=\"On\"\n",
    "            print(\"tvStatus: \",self.tvStatus)\n",
    "        else:\n",
    "            print(\"Tv is already open\")\n",
    "            \n",
    "    def volume(self):\n",
    "        choise=input(\"If you want to increase volume press: '>'\\nOr lower to volume: '<'\\nFor exit: q\\n\")\n",
    "        while True:\n",
    "            \n",
    "            \n",
    "            if(choise==\"q\"):\n",
    "                break\n",
    "            \n",
    "            elif(self.tvVolume==0):\n",
    "                print(\"Max Volume: \",self.tvVolume)\n",
    "                break\n",
    "            elif(self.tvVolume==30):\n",
    "                print(\"Min Volume: \",self.tvVolume)\n",
    "                break\n",
    "            elif(choise==\">\"):\n",
    "                self.tvVolume+=1\n",
    "                print(\"New Volume: \",self.tvVolume)\n",
    "                break\n",
    "            elif(choise==\"<\"):\n",
    "                self.tvVolume-=1\n",
    "                print(\"New Volume: \",self.tvVolume)\n",
    "                break\n",
    "    def channelMenu(self):\n",
    "        print(\"Current channel: \",self.channel)\n",
    "        print(\"Select channel(0,1,2,3....): \",self.channelList)\n",
    "        choise=int(input(\"Your choise: \"))\n",
    "        self.channel=self.channelList[choise]\n",
    "        print(\"now current channel: \",self.channel)\n",
    "     \n",
    "    \n",
    "    \n",
    "    \n",
    "    def __next__(self):\n",
    "        self.index+=1\n",
    "        if(self.index<len(channelList)):\n",
    "            return self.channelList[self.index]\n",
    "        else:\n",
    "            self.index=-1\n",
    "            \n",
    "        \n",
    "    \n",
    "    \n",
    "    \n",
    "      \"\"\" \n",
    "    # hallet bunu\n",
    "    def swapChannel(self):\n",
    "        \n",
    "        \n",
    "        for i in self.channelList:\n",
    "                if(i==self.channel):\n",
    "                    currentIndex=self.channelList.index(i)\n",
    "                    \n",
    "                    \n",
    "                    \n",
    "                    \n",
    "                    \n",
    "                    \n",
    "                    \n",
    "      \n",
    "        while True:\n",
    "                \n",
    "           \n",
    "            while True:\n",
    "                if(currentIndex>=len(self.channelList)-1):\n",
    "                    currentIndex=0\n",
    "                    \n",
    "                    break\n",
    "                elif(currentIndex<0):\n",
    "                    currentIndex=(len(self.channelList))-1\n",
    "                    break\n",
    "                else:break\n",
    "                \n",
    "            choise=input(\"for switch press (+) or (-)\")\n",
    "                \n",
    "            if(choise==\"+\"):\n",
    "                currentIndex+=1\n",
    "                self.channel=self.channelList[currentIndex]\n",
    "                print(self.channel)\n",
    "                \n",
    "            elif(choise==\"-\"):\n",
    "                currentIndex-=1\n",
    "                self.channel=self.channelList[currentIndex]\n",
    "                print(self.channel)\n",
    "                \n",
    "\"\"\"       \n",
    "          \n",
    "    \n",
    "    \n",
    " \n",
    "        \n",
    "    def __str__(self):\n",
    "        return \"TvStatus: {}\\nVolume: {}\\nChannel liste: {}\\nChannel: {}\".format(self.tvStatus,self.tvVolume,self.channelList,self.channel)\n",
    "    "
   ]
  },
  {
   "cell_type": "code",
   "execution_count": 9,
   "metadata": {},
   "outputs": [
    {
     "name": "stdout",
     "output_type": "stream",
     "text": [
      "tv application init function ready..\n"
     ]
    }
   ],
   "source": [
    "controller=Controller()"
   ]
  },
  {
   "cell_type": "code",
   "execution_count": 10,
   "metadata": {},
   "outputs": [
    {
     "name": "stdout",
     "output_type": "stream",
     "text": [
      "TvStatus: Off\n",
      "Volume: 15\n",
      "Channel liste: ['Trt', 'Fox', 'Atv', 'NtvSpor']\n",
      "Channel: Trt\n"
     ]
    }
   ],
   "source": [
    "print(controller)"
   ]
  },
  {
   "cell_type": "code",
   "execution_count": 11,
   "metadata": {},
   "outputs": [
    {
     "name": "stdout",
     "output_type": "stream",
     "text": [
      "tv is opening...\n",
      "tvStatus:  On\n"
     ]
    }
   ],
   "source": [
    "controller.turnOnTv()"
   ]
  },
  {
   "cell_type": "code",
   "execution_count": 12,
   "metadata": {},
   "outputs": [
    {
     "name": "stdout",
     "output_type": "stream",
     "text": [
      "Tv is already open\n"
     ]
    }
   ],
   "source": [
    "controller.turnOnTv()"
   ]
  },
  {
   "cell_type": "code",
   "execution_count": 13,
   "metadata": {},
   "outputs": [
    {
     "name": "stdout",
     "output_type": "stream",
     "text": [
      "If you want to increase volume press: '>'\n",
      "Or lower to volume: '<'\n",
      "For exit: q\n",
      ">\n",
      "New Volume:  16\n"
     ]
    }
   ],
   "source": [
    "controller.volume()"
   ]
  },
  {
   "cell_type": "code",
   "execution_count": 15,
   "metadata": {},
   "outputs": [
    {
     "name": "stdout",
     "output_type": "stream",
     "text": [
      "Current channel:  Trt\n",
      "Select channel(0,1,2,3....):  ['Trt', 'Fox', 'Atv', 'NtvSpor']\n",
      "Your choise: 2\n",
      "now current channel:  Atv\n"
     ]
    }
   ],
   "source": [
    "controller.channelMenu()"
   ]
  },
  {
   "cell_type": "code",
   "execution_count": 16,
   "metadata": {},
   "outputs": [
    {
     "name": "stdout",
     "output_type": "stream",
     "text": [
      "TvStatus: On\n",
      "Volume: 16\n",
      "Channel liste: ['Trt', 'Fox', 'Atv', 'NtvSpor']\n",
      "Channel: Atv\n"
     ]
    }
   ],
   "source": [
    "print(controller)"
   ]
  },
  {
   "cell_type": "code",
   "execution_count": 17,
   "metadata": {},
   "outputs": [
    {
     "ename": "AttributeError",
     "evalue": "'Controller' object has no attribute 'swapChannel'",
     "output_type": "error",
     "traceback": [
      "\u001b[1;31m---------------------------------------------------------------------------\u001b[0m",
      "\u001b[1;31mAttributeError\u001b[0m                            Traceback (most recent call last)",
      "\u001b[1;32m<ipython-input-17-5b787328fd38>\u001b[0m in \u001b[0;36m<module>\u001b[1;34m\u001b[0m\n\u001b[1;32m----> 1\u001b[1;33m \u001b[0mcontroller\u001b[0m\u001b[1;33m.\u001b[0m\u001b[0mswapChannel\u001b[0m\u001b[1;33m(\u001b[0m\u001b[1;33m)\u001b[0m\u001b[1;33m\u001b[0m\u001b[1;33m\u001b[0m\u001b[0m\n\u001b[0m",
      "\u001b[1;31mAttributeError\u001b[0m: 'Controller' object has no attribute 'swapChannel'"
     ]
    }
   ],
   "source": [
    "controller.swapChannel()"
   ]
  },
  {
   "cell_type": "code",
   "execution_count": null,
   "metadata": {},
   "outputs": [],
   "source": []
  },
  {
   "cell_type": "code",
   "execution_count": null,
   "metadata": {},
   "outputs": [],
   "source": []
  },
  {
   "cell_type": "code",
   "execution_count": null,
   "metadata": {},
   "outputs": [],
   "source": [
    "liste=[\"Mustafa\",\"Mert\",\"Divarcı\"]"
   ]
  },
  {
   "cell_type": "code",
   "execution_count": null,
   "metadata": {},
   "outputs": [],
   "source": [
    "liste2=[\"Mert\",\"Elif\"]"
   ]
  },
  {
   "cell_type": "code",
   "execution_count": null,
   "metadata": {},
   "outputs": [],
   "source": [
    "liste.index(liste2)"
   ]
  },
  {
   "cell_type": "code",
   "execution_count": null,
   "metadata": {},
   "outputs": [],
   "source": [
    "type(liste)"
   ]
  },
  {
   "cell_type": "code",
   "execution_count": null,
   "metadata": {},
   "outputs": [],
   "source": [
    "type(liste2)"
   ]
  },
  {
   "cell_type": "code",
   "execution_count": null,
   "metadata": {},
   "outputs": [],
   "source": [
    "for i in liste:\n",
    "    for j in liste2:\n",
    "        if i==j:\n",
    "            print(liste.index(j))"
   ]
  },
  {
   "cell_type": "code",
   "execution_count": null,
   "metadata": {},
   "outputs": [],
   "source": [
    "len(controller.channelList)"
   ]
  },
  {
   "cell_type": "code",
   "execution_count": null,
   "metadata": {},
   "outputs": [],
   "source": [
    "  if(currentIndex>=len(self.channelList)):\n",
    "                currentIndex=0\n",
    "            elif(currentIndex!=-1):\n",
    "                currentIndex=len(self.channelList)\n",
    "            \n",
    "            else:\n",
    "                elif(choise==\"+\"):\n",
    "                    self.channel=self.channelList[currentIndex+1]\n",
    "                    print(self.channel)\n",
    "                elif(choise==\"-\"):\n",
    "                    self.channel=self.channelList[currentIndex-1]\n",
    "                    print(self.channel)\n",
    "                else:print(\"Value error!\")\n",
    "            "
   ]
  },
  {
   "cell_type": "code",
   "execution_count": null,
   "metadata": {},
   "outputs": [],
   "source": [
    "if(1>=1):\n",
    "    print(\"mert\")"
   ]
  },
  {
   "cell_type": "code",
   "execution_count": 19,
   "metadata": {},
   "outputs": [
    {
     "ename": "TypeError",
     "evalue": "'Controller' object is not iterable",
     "output_type": "error",
     "traceback": [
      "\u001b[1;31m---------------------------------------------------------------------------\u001b[0m",
      "\u001b[1;31mTypeError\u001b[0m                                 Traceback (most recent call last)",
      "\u001b[1;32m<ipython-input-19-19c075b50933>\u001b[0m in \u001b[0;36m<module>\u001b[1;34m\u001b[0m\n\u001b[1;32m----> 1\u001b[1;33m \u001b[0miterator\u001b[0m\u001b[1;33m=\u001b[0m\u001b[0miter\u001b[0m\u001b[1;33m(\u001b[0m\u001b[0mcontroller\u001b[0m\u001b[1;33m)\u001b[0m\u001b[1;33m\u001b[0m\u001b[1;33m\u001b[0m\u001b[0m\n\u001b[0m\u001b[0;32m      2\u001b[0m \u001b[0mnext\u001b[0m\u001b[1;33m(\u001b[0m\u001b[0miterator\u001b[0m\u001b[1;33m)\u001b[0m\u001b[1;33m\u001b[0m\u001b[1;33m\u001b[0m\u001b[0m\n",
      "\u001b[1;31mTypeError\u001b[0m: 'Controller' object is not iterable"
     ]
    }
   ],
   "source": [
    "iterator=iter(controller)\n",
    "next(iterator)"
   ]
  }
 ],
 "metadata": {
  "kernelspec": {
   "display_name": "Python 3",
   "language": "python",
   "name": "python3"
  },
  "language_info": {
   "codemirror_mode": {
    "name": "ipython",
    "version": 3
   },
   "file_extension": ".py",
   "mimetype": "text/x-python",
   "name": "python",
   "nbconvert_exporter": "python",
   "pygments_lexer": "ipython3",
   "version": "3.8.5"
  }
 },
 "nbformat": 4,
 "nbformat_minor": 4
}
