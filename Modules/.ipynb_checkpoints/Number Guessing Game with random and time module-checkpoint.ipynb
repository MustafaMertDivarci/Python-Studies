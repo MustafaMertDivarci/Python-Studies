{
 "cells": [
  {
   "cell_type": "code",
   "execution_count": 1,
   "metadata": {},
   "outputs": [],
   "source": [
    "import random\n",
    "import time # for 1 second wait"
   ]
  },
  {
   "cell_type": "code",
   "execution_count": 2,
   "metadata": {},
   "outputs": [],
   "source": [
    "print(\"\"\"*********************************\n",
    "              Number Guessing Game\n",
    "          \n",
    "          Guess a number between 1 and 40\n",
    "          \n",
    "          \n",
    "         ********************************** \n",
    "         \n",
    "         \n",
    "         \"\"\")"
   ]
  },
  {
   "cell_type": "code",
   "execution_count": 3,
   "metadata": {},
   "outputs": [],
   "source": [
    "randomNumber=random.randint(1,40)\n",
    "randomNumber\n"
   ]
  },
  {
   "cell_type": "code",
   "execution_count": 4,
   "metadata": {},
   "outputs": [
    {
     "name": "stdout",
     "output_type": "stream",
     "text": [
      "Guess the number: 5\n",
      "Guess higher!\n",
      "Guess the number: 10\n",
      "Guess higher!\n",
      "Guess the number: 20\n",
      "Guess higher!\n",
      "Guess the number: 30\n",
      "Guess higher!\n",
      "Guess the number: 35\n",
      "Guess higher!\n",
      "Guess the number: 38\n",
      "Guess lower!\n",
      "Guess the number: 36\n",
      "Correct :) !Congratulations ! Guess Number:  7\n"
     ]
    }
   ],
   "source": [
    "guessingCounts=0\n",
    "while True:\n",
    "    numberFromUser=int(input(\"Guess the number: \"))\n",
    "    guessingCounts+=1\n",
    "    if(numberFromUser==randomNumber):\n",
    "        time.sleep(1)\n",
    "        print(\"Correct :) !Congratulations !\"+\" Guess Number: \",guessingCounts)\n",
    "        break\n",
    "    elif(randomNumber>numberFromUser):\n",
    "        print(\"Guess higher!\")\n",
    "    else:\n",
    "        print(\"Guess lower!\")"
   ]
  },
  {
   "cell_type": "code",
   "execution_count": null,
   "metadata": {},
   "outputs": [],
   "source": []
  },
  {
   "cell_type": "code",
   "execution_count": null,
   "metadata": {},
   "outputs": [],
   "source": []
  },
  {
   "cell_type": "code",
   "execution_count": null,
   "metadata": {},
   "outputs": [],
   "source": []
  },
  {
   "cell_type": "code",
   "execution_count": null,
   "metadata": {},
   "outputs": [],
   "source": []
  }
 ],
 "metadata": {
  "kernelspec": {
   "display_name": "Python 3",
   "language": "python",
   "name": "python3"
  },
  "language_info": {
   "codemirror_mode": {
    "name": "ipython",
    "version": 3
   },
   "file_extension": ".py",
   "mimetype": "text/x-python",
   "name": "python",
   "nbconvert_exporter": "python",
   "pygments_lexer": "ipython3",
   "version": "3.8.5"
  }
 },
 "nbformat": 4,
 "nbformat_minor": 4
}
