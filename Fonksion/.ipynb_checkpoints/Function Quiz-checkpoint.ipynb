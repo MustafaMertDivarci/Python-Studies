{
 "cells": [
  {
   "cell_type": "markdown",
   "metadata": {},
   "source": [
    "# 1-Perfect Number"
   ]
  },
  {
   "cell_type": "code",
   "execution_count": 29,
   "metadata": {},
   "outputs": [],
   "source": [
    "liste=list()\n",
    "def perfectNumb():\n",
    "    \n",
    "    for i in range(1,1000):\n",
    "        temp=0\n",
    "        #print(\"a\")\n",
    "        for j in range(1,i):\n",
    "            if(i%j==0):\n",
    "                temp+=j\n",
    "           #     print(\"b\")\n",
    "        if(temp==i):\n",
    "            liste.append(i)\n",
    "          #  print(\"c\")\n",
    "    return liste\n",
    "        "
   ]
  },
  {
   "cell_type": "code",
   "execution_count": 30,
   "metadata": {},
   "outputs": [
    {
     "data": {
      "text/plain": [
       "[6, 28, 496]"
      ]
     },
     "execution_count": 30,
     "metadata": {},
     "output_type": "execute_result"
    }
   ],
   "source": [
    "perfectNumb()\n"
   ]
  },
  {
   "cell_type": "markdown",
   "metadata": {},
   "source": [
    "# EBOB"
   ]
  },
  {
   "cell_type": "code",
   "execution_count": 56,
   "metadata": {},
   "outputs": [],
   "source": [
    "liste1=[]\n",
    "liste2=[]\n",
    "Ebob=0\n",
    "def ebob(numb1,numb2):\n",
    "    for i in range(1,numb1):\n",
    "        if(numb1%i==0):\n",
    "            liste1.append(i)\n",
    "    for j in range(1,numb2):\n",
    "        if(numb2%j==0):\n",
    "            liste2.append(j)\n",
    "    for i in liste1:\n",
    "        for j in liste2:\n",
    "            if(i==j):\n",
    "                Ebob=j\n",
    "    return print(\"Ebob: \",Ebob)\n",
    "    "
   ]
  },
  {
   "cell_type": "code",
   "execution_count": 57,
   "metadata": {},
   "outputs": [
    {
     "name": "stdout",
     "output_type": "stream",
     "text": [
      "Ebob:  5\n"
     ]
    }
   ],
   "source": [
    "ebob(15,100)"
   ]
  },
  {
   "cell_type": "markdown",
   "metadata": {},
   "source": [
    "# EKOK"
   ]
  },
  {
   "cell_type": "code",
   "execution_count": 88,
   "metadata": {},
   "outputs": [
    {
     "name": "stdout",
     "output_type": "stream",
     "text": [
      "Sayı-1:8\n",
      "Sayı-2:6\n",
      "Ekok: 24\n"
     ]
    }
   ],
   "source": [
    "def ekok_bulma(sayı1,sayı2):\n",
    "    \n",
    "    i = 2\n",
    "    ekok = 1\n",
    "    while True:\n",
    "        if (sayı1 % i == 0 and sayı2 % i == 0):\n",
    "            ekok *= i\n",
    "\n",
    "            sayı1 //= i\n",
    "            sayı2 //= i\n",
    "\n",
    "\n",
    "        elif (sayı1 % i ==  0 and sayı2 % i != 0):\n",
    "            ekok *= i\n",
    "\n",
    "            sayı1 //= i\n",
    "\n",
    "\n",
    "        elif (sayı1 % i != 0 and sayı2 % i == 0):\n",
    "            ekok *= i\n",
    "\n",
    "            sayı2 //= i\n",
    "        else:\n",
    "            i += 1\n",
    "        if (sayı1 == 1 and sayı2 == 1):\n",
    "            break\n",
    "    return ekok\n",
    "\n",
    "sayı1 = int(input(\"Sayı-1:\"))\n",
    "sayı2 = int(input(\"Sayı-2:\"))\n",
    "\n",
    "print(\"Ekok:\",ekok_bulma(sayı1,sayı2))"
   ]
  },
  {
   "cell_type": "markdown",
   "metadata": {},
   "source": [
    "# the pronunciation of the number"
   ]
  },
  {
   "cell_type": "code",
   "execution_count": 12,
   "metadata": {},
   "outputs": [],
   "source": [
    "oneDigit=[\"\",\"one\",\"two\",\"three\",\"four\",\"five\",\"six\",\"seven\",\"eight\",\"nine\"]\n",
    "twoDigit=[\"\",\"ten\",\"twenty\",\"thirty\",\"fourty\",\"fifty\",\"sixty\",\"seventy\",\"eighty\",\"ninenyt\"]\n",
    "\n",
    "def pronunciation():\n",
    "    numb=int(input(\"Enter a two digit number: \"))\n",
    "    \n",
    "    ones=numb%10\n",
    "    twos=numb//10\n",
    "    \n",
    "    return print(twoDigit[twos],oneDigit[ones])\n",
    "\n",
    "    "
   ]
  },
  {
   "cell_type": "code",
   "execution_count": 14,
   "metadata": {},
   "outputs": [
    {
     "name": "stdout",
     "output_type": "stream",
     "text": [
      "Enter a two digit number: 99\n",
      "ninenyt nine\n"
     ]
    }
   ],
   "source": [
    "pronunciation()"
   ]
  },
  {
   "cell_type": "markdown",
   "metadata": {},
   "source": [
    "# Pythagorean Triangle"
   ]
  },
  {
   "cell_type": "code",
   "execution_count": null,
   "metadata": {},
   "outputs": [],
   "source": [
    "#a**2=b**2+c**2"
   ]
  },
  {
   "cell_type": "code",
   "execution_count": 41,
   "metadata": {},
   "outputs": [],
   "source": [
    "liste=[]\n",
    "temp=[]\n",
    "def pythagorean():\n",
    "    for i in range(1,101):\n",
    "        \n",
    "        for j in range(1,101):\n",
    "            for k in range(1,101):\n",
    "                temp=[]\n",
    "                if((i**2)==(j**2)+(k**2)):\n",
    "                    temp=[i,j,k]\n",
    "                    liste.append(temp)\n",
    "                    \n",
    "                    \n",
    "    return liste"
   ]
  },
  {
   "cell_type": "code",
   "execution_count": 42,
   "metadata": {},
   "outputs": [
    {
     "data": {
      "text/plain": [
       "[[5, 3, 4],\n",
       " [5, 4, 3],\n",
       " [10, 6, 8],\n",
       " [10, 8, 6],\n",
       " [13, 5, 12],\n",
       " [13, 12, 5],\n",
       " [15, 9, 12],\n",
       " [15, 12, 9],\n",
       " [17, 8, 15],\n",
       " [17, 15, 8],\n",
       " [20, 12, 16],\n",
       " [20, 16, 12],\n",
       " [25, 7, 24],\n",
       " [25, 15, 20],\n",
       " [25, 20, 15],\n",
       " [25, 24, 7],\n",
       " [26, 10, 24],\n",
       " [26, 24, 10],\n",
       " [29, 20, 21],\n",
       " [29, 21, 20],\n",
       " [30, 18, 24],\n",
       " [30, 24, 18],\n",
       " [34, 16, 30],\n",
       " [34, 30, 16],\n",
       " [35, 21, 28],\n",
       " [35, 28, 21],\n",
       " [37, 12, 35],\n",
       " [37, 35, 12],\n",
       " [39, 15, 36],\n",
       " [39, 36, 15],\n",
       " [40, 24, 32],\n",
       " [40, 32, 24],\n",
       " [41, 9, 40],\n",
       " [41, 40, 9],\n",
       " [45, 27, 36],\n",
       " [45, 36, 27],\n",
       " [50, 14, 48],\n",
       " [50, 30, 40],\n",
       " [50, 40, 30],\n",
       " [50, 48, 14],\n",
       " [51, 24, 45],\n",
       " [51, 45, 24],\n",
       " [52, 20, 48],\n",
       " [52, 48, 20],\n",
       " [53, 28, 45],\n",
       " [53, 45, 28],\n",
       " [55, 33, 44],\n",
       " [55, 44, 33],\n",
       " [58, 40, 42],\n",
       " [58, 42, 40],\n",
       " [60, 36, 48],\n",
       " [60, 48, 36],\n",
       " [61, 11, 60],\n",
       " [61, 60, 11],\n",
       " [65, 16, 63],\n",
       " [65, 25, 60],\n",
       " [65, 33, 56],\n",
       " [65, 39, 52],\n",
       " [65, 52, 39],\n",
       " [65, 56, 33],\n",
       " [65, 60, 25],\n",
       " [65, 63, 16],\n",
       " [68, 32, 60],\n",
       " [68, 60, 32],\n",
       " [70, 42, 56],\n",
       " [70, 56, 42],\n",
       " [73, 48, 55],\n",
       " [73, 55, 48],\n",
       " [74, 24, 70],\n",
       " [74, 70, 24],\n",
       " [75, 21, 72],\n",
       " [75, 45, 60],\n",
       " [75, 60, 45],\n",
       " [75, 72, 21],\n",
       " [78, 30, 72],\n",
       " [78, 72, 30],\n",
       " [80, 48, 64],\n",
       " [80, 64, 48],\n",
       " [82, 18, 80],\n",
       " [82, 80, 18],\n",
       " [85, 13, 84],\n",
       " [85, 36, 77],\n",
       " [85, 40, 75],\n",
       " [85, 51, 68],\n",
       " [85, 68, 51],\n",
       " [85, 75, 40],\n",
       " [85, 77, 36],\n",
       " [85, 84, 13],\n",
       " [87, 60, 63],\n",
       " [87, 63, 60],\n",
       " [89, 39, 80],\n",
       " [89, 80, 39],\n",
       " [90, 54, 72],\n",
       " [90, 72, 54],\n",
       " [91, 35, 84],\n",
       " [91, 84, 35],\n",
       " [95, 57, 76],\n",
       " [95, 76, 57],\n",
       " [97, 65, 72],\n",
       " [97, 72, 65],\n",
       " [100, 28, 96],\n",
       " [100, 60, 80],\n",
       " [100, 80, 60],\n",
       " [100, 96, 28]]"
      ]
     },
     "execution_count": 42,
     "metadata": {},
     "output_type": "execute_result"
    }
   ],
   "source": [
    "pythagorean()"
   ]
  },
  {
   "cell_type": "code",
   "execution_count": 26,
   "metadata": {},
   "outputs": [],
   "source": []
  },
  {
   "cell_type": "code",
   "execution_count": null,
   "metadata": {},
   "outputs": [],
   "source": []
  },
  {
   "cell_type": "code",
   "execution_count": null,
   "metadata": {},
   "outputs": [],
   "source": []
  }
 ],
 "metadata": {
  "kernelspec": {
   "display_name": "Python 3",
   "language": "python",
   "name": "python3"
  },
  "language_info": {
   "codemirror_mode": {
    "name": "ipython",
    "version": 3
   },
   "file_extension": ".py",
   "mimetype": "text/x-python",
   "name": "python",
   "nbconvert_exporter": "python",
   "pygments_lexer": "ipython3",
   "version": "3.8.5"
  }
 },
 "nbformat": 4,
 "nbformat_minor": 4
}
